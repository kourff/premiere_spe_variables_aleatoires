{
 "cells": [
  {
   "cell_type": "markdown",
   "metadata": {},
   "source": [
    "# Moyenne et écart type d'une liste de nombres\n",
    "\n",
    "- La moyenne d'une série statistique $(x_i)_{1 \\leqslant i \\leqslant n}$ s'obtient par la formule $\\bar{x} = \\frac{1}{n} \\sum_{i=1}^{n} x_i$ .\n",
    "- Sa variance est $V(x) = \\frac{1}{n} \\sum_{i=1}^{n} {(x_i - \\bar{x})^2}$ (moyenne des carrés des écarts des valeurs à la moyenne).\n",
    "- Son écart type est alors $\\sigma(x) = \\sqrt{V(x)}$ .\n",
    "\n",
    "Dans le cas d'une série donnée avec effectifs $(x_i ; n_i)$ puis avec fréquences $(x_i ; f_i)$, ces formules deviennent :"
   ]
  },
  {
   "cell_type": "markdown",
   "metadata": {},
   "source": [
    "- La moyenne d'une série statistique donnée avec effectifs $(x_i ; n_i)_{1 \\leqslant i \\leqslant k}$ s'obtient par la formule $\\bar{x} = \\frac{1}{n} \\sum_{i=1}^{k} n_i x_i$ où $n$ est l'effectif total : $n = \\sum_{i=1}^{k} n_i$.\n",
    "- Sa variance est $V(x) = \\frac{1}{n} \\sum_{i=1}^{k} {n_i (x_i - \\bar{x})^2}$.\n",
    "- La moyenne d'une série statistique donnée avec fréquences $(x_i ; f_i)_{1 \\leqslant i \\leqslant k}$ s'obtient par la formule $\\bar{x} = \\sum_{i=1}^{k} f_i x_i$.\n",
    "- Sa variance est $V(x) = \\sum_{i=1}^{k} {f_i (x_i - \\bar{x})^2}$."
   ]
  },
  {
   "cell_type": "markdown",
   "metadata": {
    "ExecuteTime": {
     "end_time": "2019-05-24T17:04:06.853091Z",
     "start_time": "2019-05-24T17:04:06.85017Z"
    }
   },
   "source": [
    "Il faut savoir écrire une fonction $moyenne(L)$ renvoyant la moyenne d'une liste de nombres $L$."
   ]
  },
  {
   "cell_type": "code",
   "execution_count": 106,
   "metadata": {
    "ExecuteTime": {
     "end_time": "2019-05-24T17:04:19.185322Z",
     "start_time": "2019-05-24T17:04:19.181656Z"
    }
   },
   "outputs": [],
   "source": [
    "def moyenne(L):\n",
    "    s = 0\n",
    "    for x in L:\n",
    "        s = s + x\n",
    "    return s/len(L)  "
   ]
  },
  {
   "cell_type": "markdown",
   "metadata": {
    "ExecuteTime": {
     "end_time": "2019-05-24T17:04:06.853091Z",
     "start_time": "2019-05-24T17:04:06.85017Z"
    }
   },
   "source": [
    "La fonction $ecarttype(L)$ renvoie l'écart type d'une liste de nombres $L$."
   ]
  },
  {
   "cell_type": "code",
   "execution_count": 107,
   "metadata": {
    "ExecuteTime": {
     "end_time": "2019-05-24T17:04:19.185322Z",
     "start_time": "2019-05-24T17:04:19.181656Z"
    }
   },
   "outputs": [],
   "source": [
    "from math import sqrt\n",
    "\n",
    "def ecarttype(L):\n",
    "    v = 0\n",
    "    moy = moyenne(L)\n",
    "    for x in L:\n",
    "        v += (x-moy)**2\n",
    "    return sqrt(v/len(L))"
   ]
  },
  {
   "cell_type": "markdown",
   "metadata": {},
   "source": [
    "# Simulations d'expériences aléatoires\n",
    "Plusieurs fonctions de la bibliothèque `random` permettent de simuler l'aléatoire en Python. Si $n$ et $p$ sont des entiers :\n",
    "\n",
    "- $randrange(n)$ renvoie un entier entre 0 et $n-1$.\n",
    "- $randrange(n,p)$ renvoie un entier entre $n$ inclus et $p$ exclu.\n",
    "- $randint(n,p)$ renvoie un entier entre $n$ et $p$ inclus.  \n",
    "$randint(1,6)$ renvoie un nombre entier entre 1 et 6 et permet de simuler le lancer d'un dé ordinaire à 6 faces.\n",
    "- $random()$ renvoie un flottant de l'intervalle $[0;1[$.  \n",
    "$random()<0.5$ renvoie un booléen True ou False et permet de simuler le lancer d'une pièce de monnaie.  \n",
    "$random()<p$ permet de simuler un évènement de probabilité $p$.\n",
    "\n"
   ]
  },
  {
   "cell_type": "markdown",
   "metadata": {},
   "source": [
    "# Variables aléatoires réelles\n",
    "\n",
    "__Définition__\n",
    "\n",
    "On considère une expérience dont l'univers est un ensemble fini $\\Omega$.\n",
    "Une variable aléatoire $X$ est une fonction définie sur $\\Omega$ et à valeurs dans $\\mathbb{R}$.\n",
    "\n",
    "__Exemples__\n",
    "- La variable $X$ qui, à tout lancer d'un dé à six faces, associe le nombre obtenu sur la face supérieure est une variable aléatoire à valeurs dans {1; 2; 3; 4; 5; 6}.\n",
    "- La variable $Y$ qui, à toute série de 10 tirs de Loic, associe le nombre de fois où il touche la pile est une variable aléatoire à valeurs dans {0; 1; 2; 3; 4; 5; 6; 7; 8; 9; 10}.\n",
    "\n",
    "__Définition__\n",
    "\n",
    "La loi de probabilité d'une variable aléatoire $X$ est la donnée de la probabilité $P(X=x_i)$ de l'évènement {$X=x_i$} pour chaque valeur $x_i$ prise par $X$.\n",
    "\n",
    "__Exemples__\n",
    "- La loi de probabilité de la variable $X$ est donnée par : $\\forall n \\in$ {1; 2; 3; 4; 5; 6}, $P(X=n) = \\frac{1}{6}$\n",
    "- La loi de probabilité de la variable $Y$ est plus complexe à déterminer mais peut être estimée statistiquement. On rappelle que la fréquence de réalisation d'un évènement lors de $n$ expériences se rapproche de la probabilité de réalisation de cet évènement quand $n$ est très grand."
   ]
  },
  {
   "cell_type": "markdown",
   "metadata": {
    "slideshow": {
     "slide_type": "subslide"
    }
   },
   "source": [
    "__Définition__\n",
    "\n",
    "On étend les notions de moyenne, de variance et d'écart type des séries statistiques aux variables aléatoires.\n",
    "\n",
    "$X$ étant une variable aléatoire prenant les valeurs $x_i$ avec des probabilités $p_i$, on définit :\n",
    "\n",
    "- L'espérance de $X$ : $E(X) = \\sum_{i=1}^{n} p_i x_i$ \n",
    "- La variance de $X$ : $V(X) = \\sum_{i=1}^{n} {p_i (x_i - \\bar{x})^2}$ (moyenne des carrés des écarts des valeurs à la moyenne)\n",
    "- L'écart type de $X$ : $\\sigma(X) = \\sqrt{V(X)}$ \n",
    "\n",
    "__Exemples__\n",
    "\n",
    "$E(X) = \\sum_{i=1}^{6} p_i x_i = \\frac{1}{6} \\times 1 + \\frac{1}{6} \\times 2 + \\frac{1}{6} \\times 3 + \\frac{1}{6} \\times 4 + \\frac{1}{6} \\times 5 + \\frac{1}{6} \\times 6 = \\frac{21}{6} = 3,5$ \n",
    "\n",
    "$V(X) = \\sum_{i=1}^{6} {p_i (x_i - \\bar{x})^2} = \\frac{1}{6} \\times (1 - 3,5)^2 + \\frac{1}{6} \\times (2 - 3,5)^2 + \\frac{1}{6} \\times (3 - 3,5)^2 + \\frac{1}{6} \\times (4 - 3,5)^2 + \\frac{1}{6} \\times (5 - 3,5)^2 + \\frac{1}{6} \\times (6 - 3,5)^2 = \\frac{35}{12}$ \n",
    "\n",
    "$\\sigma(X) = \\sqrt{V(X)} = \\sqrt{\\frac{35}{12}} \\approx 1,7$ "
   ]
  },
  {
   "cell_type": "markdown",
   "metadata": {},
   "source": [
    "# Quelques liens\n",
    "\n",
    "[Histoire des probabilités](https://fr.wikipedia.org/wiki/Histoire_des_probabilités)\n",
    "\n",
    "[Formule de König-Huygens](https://fr.wikipedia.org/wiki/Théorème_de_König-Huygens) : La formule de König-Huygens fournit une autre méthode pour calculer la variance."
   ]
  }
 ],
 "metadata": {
  "kernelspec": {
   "display_name": "Python 3",
   "language": "python",
   "name": "python3"
  },
  "language_info": {
   "codemirror_mode": {
    "name": "ipython",
    "version": 3
   },
   "file_extension": ".py",
   "mimetype": "text/x-python",
   "name": "python",
   "nbconvert_exporter": "python",
   "pygments_lexer": "ipython3",
   "version": "3.6.2"
  }
 },
 "nbformat": 4,
 "nbformat_minor": 2
}
