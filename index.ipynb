{
 "cells": [
  {
   "cell_type": "markdown",
   "metadata": {},
   "source": [
    "# Chapitre 12 - Variables aléatoires\n",
    "\n",
    "Ce cours a été écrit sur Jupyter Notebook.\n",
    "\n",
    "Vous pouvez :\n",
    "- ou bien télécharger les fichiers et les ouvrir sur votre ordinateur si vous avez installé Jupyter Notebook. Le plus simple pour cela est d'installer [Anaconda](https://www.anaconda.com/distribution/) sur votre ordinateur. \n",
    "- ou bien travailler en ligne : c'est le plus simple, mais vous ne pourrez pas faire l'activité 2.4 en ligne (déplacement aléatoire d'un robot). Vous pourrez cependant copier les codes dans votre environnement Python favori si vous en avez installé un sur votre ordinateur (Spyder, EduPython, Thonny...).\n",
    "\n",
    "L'inconvénient du travail en ligne est que votre travail ne s'enregistre pas. Vous pourrez l'enregistrer sous forme de fichier Python sur votre ordinateur (menu File Download as Python), mais pas le reprendre en ligne.\n",
    "\n",
    "Choisissez votre fichier selon votre niveau en Python. Le contenu mathématiques est le même dans les trois cas. \n",
    "- [faible](12%2B-%2BVariables%2Baleatoires-eleve-niveau-python-faible.ipynb) : les programmes Python sont pratiquement écrits, il reste juste quelques corrections à apporter (choisissez ce niveau si vous ne savez pas écrire une fonction, une boucle)\n",
    "- [moyen](12%2B-%2BVariables%2Baleatoires-eleve-niveau-python-moyen.ipynb) : davantage de corrections à apporter (choisissez ce niveau si les questions de programmation du niveau faible vous semblent trop faciles)\n",
    "- [bon](12%2B-%2BVariables%2Baleatoires-eleve-niveau-python-bon.ipynb) : certains programmes sont à corriger, d'autres à écrire complètement (choisissez ce niveau si vous savez écrire une petite fonction avec boucle et instruction conditionnelle)\n",
    "\n",
    "Une question fait souvent appel à une fonction écrire dans une question précédente. Il est donc nécessaire de faire toutes les questions dans l'ordre. Aussi, je vous conseille d'ouvrir le [corrigé](12%2B-%2BVariables%2Baleatoires-corrige.ipynb) dans un nouvel onglet et de corriger vos questions au fur et à mesure.\n",
    "\n",
    "Enfin, quand vous aurez terminé les activités, vous pourrez imprimer le [résumé de cours](12%2B-%2BVariables%2Baleatoires-resume-cours.pdf), et si vous le souhaitez, récupérer le corrigé au [format pdf](12%2B-%2BVariables%2Baleatoires-corrige.pdf) ou au [format Python](12%2B-%2BVariables%2Baleatoires-corrige.py)."
   ]
  }
 ],
 "metadata": {
  "kernelspec": {
   "display_name": "Python 3",
   "language": "python",
   "name": "python3"
  },
  "language_info": {
   "codemirror_mode": {
    "name": "ipython",
    "version": 3
   },
   "file_extension": ".py",
   "mimetype": "text/x-python",
   "name": "python",
   "nbconvert_exporter": "python",
   "pygments_lexer": "ipython3",
   "version": "3.6.2"
  }
 },
 "nbformat": 4,
 "nbformat_minor": 2
}
