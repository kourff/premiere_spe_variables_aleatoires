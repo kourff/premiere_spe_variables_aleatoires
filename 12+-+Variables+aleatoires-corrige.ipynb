{
 "cells": [
  {
   "cell_type": "markdown",
   "metadata": {},
   "source": [
    "# 1. Moyenne et écart type d'une liste de nombres\n",
    "On va écrire dans un premier temps les fonctions $moyenne$ et $ecarttype$ que nous utiliserons ensuite.\n",
    "\n",
    "- La moyenne d'une série statistique $(x_i)_{1 \\leqslant i \\leqslant n}$ s'obtient par la formule $\\bar{x} = \\frac{1}{n} \\sum_{i=1}^{n} x_i$ .\n",
    "- Sa variance est $V(x) = \\frac{1}{n} \\sum_{i=1}^{n} {(x_i - \\bar{x})^2}$ (moyenne des carrés des écarts des valeurs à la moyenne).\n",
    "- Son écart type est alors $\\sigma(x) = \\sqrt{V(x)}$ .\n",
    "\n",
    "__Q1.__ Rappeler les formules de calculs de moyenne et de variance dans le cas d'une série donnée avec effectifs $(x_i ; n_i)$ puis avec fréquences $(x_i ; f_i)$."
   ]
  },
  {
   "cell_type": "markdown",
   "metadata": {},
   "source": [
    "- La moyenne d'une série statistique donnée avec effectifs $(x_i ; n_i)_{1 \\leqslant i \\leqslant k}$ s'obtient par la formule $\\bar{x} = \\frac{1}{n} \\sum_{i=1}^{k} n_i x_i$ où $n$ est l'effectif total : $n = \\sum_{i=1}^{k} n_i$.\n",
    "- Sa variance est $V(x) = \\frac{1}{n} \\sum_{i=1}^{k} {n_i (x_i - \\bar{x})^2}$.\n",
    "- La moyenne d'une série statistique donnée avec fréquences $(x_i ; f_i)_{1 \\leqslant i \\leqslant k}$ s'obtient par la formule $\\bar{x} = \\sum_{i=1}^{k} f_i x_i$.\n",
    "- Sa variance est $V(x) = \\sum_{i=1}^{k} {f_i (x_i - \\bar{x})^2}$."
   ]
  },
  {
   "cell_type": "markdown",
   "metadata": {
    "ExecuteTime": {
     "end_time": "2019-05-24T17:04:06.853091Z",
     "start_time": "2019-05-24T17:04:06.85017Z"
    }
   },
   "source": [
    "__Q2.__ Écrire une fonction $moyenne(L)$ renvoyant la moyenne d'une liste de nombres $L$."
   ]
  },
  {
   "cell_type": "code",
   "execution_count": 106,
   "metadata": {
    "ExecuteTime": {
     "end_time": "2019-05-24T17:04:19.185322Z",
     "start_time": "2019-05-24T17:04:19.181656Z"
    }
   },
   "outputs": [],
   "source": [
    "def moyenne(L):\n",
    "    s = 0\n",
    "    for x in L:\n",
    "        s = s + x\n",
    "    return s/len(L)  "
   ]
  },
  {
   "cell_type": "markdown",
   "metadata": {
    "ExecuteTime": {
     "end_time": "2019-05-24T17:04:06.853091Z",
     "start_time": "2019-05-24T17:04:06.85017Z"
    }
   },
   "source": [
    "La fonction $ecarttype(L)$ renvoie l'écart type d'une liste de nombres $L$."
   ]
  },
  {
   "cell_type": "code",
   "execution_count": 107,
   "metadata": {
    "ExecuteTime": {
     "end_time": "2019-05-24T17:04:19.185322Z",
     "start_time": "2019-05-24T17:04:19.181656Z"
    }
   },
   "outputs": [],
   "source": [
    "from math import sqrt\n",
    "\n",
    "def ecarttype(L):\n",
    "    v = 0\n",
    "    moy = moyenne(L)\n",
    "    for x in L:\n",
    "        v += (x-moy)**2\n",
    "    return sqrt(v/len(L))"
   ]
  },
  {
   "cell_type": "markdown",
   "metadata": {},
   "source": [
    "__Q3.__ Tester dans la cellule ci-dessous les deux fonctions précédentes avec la série 15, 12, 10, 16."
   ]
  },
  {
   "cell_type": "code",
   "execution_count": 145,
   "metadata": {},
   "outputs": [
    {
     "data": {
      "text/plain": [
       "(13.25, 2.384848003542364)"
      ]
     },
     "execution_count": 145,
     "metadata": {},
     "output_type": "execute_result"
    }
   ],
   "source": [
    "moyenne([15, 12, 10, 16]), ecarttype([15, 12, 10, 16])"
   ]
  },
  {
   "cell_type": "markdown",
   "metadata": {},
   "source": [
    "# 2. Simulations d'expériences aléatoires\n",
    "Plusieurs fonctions de la bibliothèque `random` permettent de simuler l'aléatoire en Python. Si $n$ et $p$ sont des entiers :\n",
    "\n",
    "- $randrange(n)$ renvoie un entier entre 0 et $n-1$.\n",
    "- $randrange(n,p)$ renvoie un entier entre $n$ inclus et $p$ exclu.\n",
    "- $randint(n,p)$ renvoie un entier entre $n$ et $p$ inclus.\n",
    "- $random()$ renvoie un flottant de l'intervalle $[0;1[$"
   ]
  },
  {
   "cell_type": "markdown",
   "metadata": {},
   "source": [
    "## 2.1. Lancers de dés\n",
    "$randint(1,6)$ permet de simuler le lancer d'un dé ordinaire à 6 faces.\n",
    "\n",
    "__Q4.__ Quel est le rôle de la fonction suivante ?"
   ]
  },
  {
   "cell_type": "code",
   "execution_count": 109,
   "metadata": {},
   "outputs": [],
   "source": [
    "from random import randint\n",
    "\n",
    "def lancerdes(n):\n",
    "    res = []\n",
    "    for i in range(n):\n",
    "        res.append(randint(1,6))\n",
    "    return res"
   ]
  },
  {
   "cell_type": "markdown",
   "metadata": {},
   "source": [
    "Cette fonction simule un lancer de $n$ dés (ou d'un dé $n$ fois) et renvoie les $n$ valeurs dans une liste."
   ]
  },
  {
   "cell_type": "markdown",
   "metadata": {
    "ExecuteTime": {
     "end_time": "2019-05-24T17:04:06.853091Z",
     "start_time": "2019-05-24T17:04:06.85017Z"
    }
   },
   "source": [
    "__Q5.__ Dans la cellule ci-dessous, on simule une série de 10 000 lancers de dés. Déterminer sa moyenne et son écart type."
   ]
  },
  {
   "cell_type": "code",
   "execution_count": 110,
   "metadata": {
    "ExecuteTime": {
     "end_time": "2019-05-24T17:04:19.185322Z",
     "start_time": "2019-05-24T17:04:19.181656Z"
    }
   },
   "outputs": [
    {
     "name": "stdout",
     "output_type": "stream",
     "text": [
      "moyenne : 3.4949 ecart-type:  1.701756148806283\n"
     ]
    }
   ],
   "source": [
    "serie = lancerdes(10000)\n",
    "moy = moyenne(serie)\n",
    "et = ecarttype(serie)\n",
    "print(\"moyenne :\", moy, \"ecart-type: \",et)"
   ]
  },
  {
   "cell_type": "markdown",
   "metadata": {},
   "source": [
    "__Q6.__ Décrire le fonctionnement du code suivant."
   ]
  },
  {
   "cell_type": "code",
   "execution_count": 111,
   "metadata": {},
   "outputs": [],
   "source": [
    "def frequence(serie):\n",
    "    freq = [0]*6\n",
    "    for x in serie:\n",
    "        freq[x-1] += 1    # même effet que freq[x-1] = freq[x-1] + 1\n",
    "    for i in range(len(freq)):\n",
    "        freq[i] = freq[i]/len(serie)\n",
    "    return freq"
   ]
  },
  {
   "cell_type": "markdown",
   "metadata": {},
   "source": [
    "La fonction $frequence$ renvoie une liste contenant la fréquence d'apparition de chaque résultat, dans l'ordre croissant. \n",
    "Par exemple, [0.2, 0.25, 0.1, 0.15, 0.3, 0] signifie qu'il y a 20% de 1, 25% de 2, 10% de 3, 15% de 4, 30% de 5 et 0% de 6.\n",
    "\n",
    "Pour cela, on crée une liste freq contenant six 0 : [0, 0, 0, 0, 0, 0].\n",
    "Dans un premier temps, cette liste va indiquer le nombre d'apparitions de chaque valeur. La deuxième boucle for divise ces effectifs par le nombre de valeurs (len(serie)) pour calculer les fréquences correspondantes.\n",
    "\n",
    "On rappelle qu'on accède aux éléments d'une liste avec le nom de la liste suivi de l'indice de l'élément entre crochet. Ainsi freq[0] correspond au premier élément de la liste, donc au nombre de 1; freq[1] au deuxième élément de la liste, donc au nombre de 2, ...\n",
    "\n",
    "Dans la première boucle for, la variable x parcourt la série. \n",
    "x est un nombre entre 1 et 6 et les indices de la liste $freq$ vont de 0 à 5.\n",
    "\n",
    "Ainsi, si x prend la valeur 3 par exemple, freq[2] qui correspond au nombre de 3, doit augmenter de 1. Si x prend la valeur 5 par exemple, freq[4] qui correspond au nombre de 5 doit augmenter de 1. D'où la ligne freq[x-1] += 1. \n",
    "\n"
   ]
  },
  {
   "cell_type": "code",
   "execution_count": 112,
   "metadata": {},
   "outputs": [],
   "source": [
    "def frequence(serie):\n",
    "    freq = [0]*6                      # On crée une liste freq contenant six 0.\n",
    "    for x in serie:                   # On parcourt la serie de nombres en comptant\n",
    "        freq[x-1] += 1                #   le nombre d'apparitions de chaque valeur.\n",
    "    for i in range(len(freq)):        # On parcourt la liste freq en divisant les effectifs\n",
    "        freq[i] = freq[i]/len(serie)  #   par l'effectif total pour calculer les fréquences.\n",
    "    return freq"
   ]
  },
  {
   "cell_type": "markdown",
   "metadata": {
    "ExecuteTime": {
     "end_time": "2019-05-24T17:04:06.853091Z",
     "start_time": "2019-05-24T17:04:06.85017Z"
    }
   },
   "source": [
    "On peut alors représenter cette série sous la forme d'un diagramme en barres."
   ]
  },
  {
   "cell_type": "code",
   "execution_count": 113,
   "metadata": {
    "ExecuteTime": {
     "end_time": "2019-05-24T17:04:19.535243Z",
     "start_time": "2019-05-24T17:04:19.532431Z"
    },
    "scrolled": true
   },
   "outputs": [
    {
     "data": {
      "image/png": "[encoded data removed]",
      "text/plain": [
       "<matplotlib.figure.Figure at 0x19fd15592b0>"
      ]
     },
     "metadata": {},
     "output_type": "display_data"
    }
   ],
   "source": [
    "import matplotlib.pyplot as plt\n",
    "\n",
    "def diagramme(freq):\n",
    "    u = plt.bar(range(1,7),freq)\n",
    "    plt.show()\n",
    "\n",
    "diagramme(frequence(serie))"
   ]
  },
  {
   "cell_type": "markdown",
   "metadata": {},
   "source": [
    "## 2.2. Lancers d'une pièce de monnaie\n",
    "$random()<0.5$ permet de simuler le lancer d'une pièce de monnaie.\n",
    "\n",
    "__Q7.__ Que renvoie l'expression $random()<0.5$ ? Expliquer comment l'utiliser pour simuler le lancer d'une pièce."
   ]
  },
  {
   "cell_type": "markdown",
   "metadata": {},
   "source": [
    "random() < 0.5 est un test. Il renvoie donc un booléen True ou False avec équiprobabilité. On peut considérer que True correspond à pile et False à face et simuler ainsi une pièce de monnaie. On aurait pu créer une fonction piece qui lance une pièce et renvoie True pour pile et False pour face. Je n'ai pas utilisé cette fonction dans la suite."
   ]
  },
  {
   "cell_type": "code",
   "execution_count": 3,
   "metadata": {},
   "outputs": [],
   "source": [
    "from random import random\n",
    "\n",
    "def piece():\n",
    "    return random()<0.5"
   ]
  },
  {
   "cell_type": "markdown",
   "metadata": {},
   "source": [
    "__Q8.__ Écrire une fonction effectuant une simulation de $n$ lancers de pièces de monnaie et renvoyant la fréquence d'apparition de pile (ou face). On pourra la tester avec $n$ = 10 000 par exemple."
   ]
  },
  {
   "cell_type": "code",
   "execution_count": 4,
   "metadata": {},
   "outputs": [
    {
     "data": {
      "text/plain": [
       "0.4994"
      ]
     },
     "execution_count": 4,
     "metadata": {},
     "output_type": "execute_result"
    }
   ],
   "source": [
    "def simulationLancers(n):\n",
    "    nbr_pile = 0\n",
    "    for i in range(n):\n",
    "        if random() < 0.5:   # Condition vérifiée une fois sur deux environ (probabilité 0,5 comme pile ou face)\n",
    "            nbr_pile += 1    # Rajoute un pile \n",
    "    return nbr_pile/n\n",
    "\n",
    "simulationLancers(10000)"
   ]
  },
  {
   "cell_type": "markdown",
   "metadata": {},
   "source": [
    "## 2.3. Évènement de probabilité $p$\n",
    "$random()<p$ permet de simuler un évènement de probabilité $p$.\n",
    "\n",
    "### Tir à l'arc V1\n",
    "Loic tire 10 flèches sur une cible. A chaque tir, il a une probabilité de 0,7 de toucher la cible.\n",
    "\n",
    "__Q9.__ Écrire une fonction permettant de simuler cette expérience, renvoyant le nombre de fois où Loic a touché la cible lors de ses 10 tirs."
   ]
  },
  {
   "cell_type": "code",
   "execution_count": 6,
   "metadata": {},
   "outputs": [],
   "source": [
    "from random import random\n",
    "\n",
    "def simulation10TirV1():\n",
    "    nbr_touche = 0\n",
    "    for i in range(10):\n",
    "        if random() < 0.7:\n",
    "            nbr_touche += 1\n",
    "    return nbr_touche"
   ]
  },
  {
   "cell_type": "markdown",
   "metadata": {},
   "source": [
    "### Tir à l'arc V2\n",
    "Lors du premier tir, Loic a une probabilité de 0,7 de toucher la cible. Ensuite, si Loic touche la cible, il a une probabilité de 0,8 de retoucher la cible au tir suivant, et s'il manque, il a une probabilité de 0,5 de toucher la cible au tir suivant.\n",
    "\n",
    "__Q10.__ Écrire une fonction permettant de simuler cette expérience, renvoyant le nombre de fois où Loic a touché la cible en 10 tirs."
   ]
  },
  {
   "cell_type": "code",
   "execution_count": 7,
   "metadata": {},
   "outputs": [],
   "source": [
    "def simulation10TirV2():\n",
    "    # Premier tir\n",
    "    if random() < 0.7:\n",
    "        nbr_touche = 1\n",
    "        touche = True\n",
    "    else:\n",
    "        nbr_touche = 0\n",
    "        touche = False\n",
    "    # 9 tirs suivants\n",
    "    for i in range(9):\n",
    "        if touche:\n",
    "            proba = 0.8\n",
    "        else:\n",
    "            proba = 0.5\n",
    "        if random() < proba:\n",
    "            nbr_touche += 1\n",
    "            touche = True\n",
    "        else:\n",
    "            touche = False\n",
    "    return nbr_touche"
   ]
  },
  {
   "cell_type": "markdown",
   "metadata": {},
   "source": [
    "__Q11.__ Simuler $n$ séries de 10 tirs, en retenant dans chaque série le nombre de fois où Loic touche la cible. En prenant $n$ = 1 000, afficher la moyenne et l'écart type de cette série dans les deux situations précédentes (V1 et V2)."
   ]
  },
  {
   "cell_type": "code",
   "execution_count": 118,
   "metadata": {},
   "outputs": [
    {
     "name": "stdout",
     "output_type": "stream",
     "text": [
      "(7.004, 1.4394387795248524)\n",
      "(7.012, 1.904693151140105)\n"
     ]
    }
   ],
   "source": [
    "def simulationTirsV1(n):\n",
    "    res_series = []\n",
    "    for i in range(n):\n",
    "        nbr_touche = simulation10TirV1()\n",
    "        res_series.append(nbr_touche)\n",
    "    return moyenne(res_series), ecarttype(res_series)\n",
    "    \n",
    "def simulationTirsV2(n):\n",
    "    res_series = []\n",
    "    for i in range(n):\n",
    "        nbr_touche = simulation10TirV2()\n",
    "        res_series.append(nbr_touche)\n",
    "    return moyenne(res_series), ecarttype(res_series)\n",
    "\n",
    "print(simulationTirsV1(1000))\n",
    "print(simulationTirsV2(1000))"
   ]
  },
  {
   "cell_type": "markdown",
   "metadata": {},
   "source": [
    "## 2.4. Déplacement aléatoire d'un robot\n",
    "Un robot se déplace dans une direction aléatoire définie par un angle entre 0° et 360° d'une distance aléatoire entre 20 et 100 centimètres.\n",
    "\n",
    "Le script suivant permet de simuler un tel déplacement."
   ]
  },
  {
   "cell_type": "code",
   "execution_count": 4,
   "metadata": {},
   "outputs": [],
   "source": [
    "from random import random\n",
    "\n",
    "def deplacement():\n",
    "    angle = random()*360\n",
    "    distance = random()*80 + 20\n",
    "    return angle,distance"
   ]
  },
  {
   "cell_type": "markdown",
   "metadata": {},
   "source": [
    "On souhaite effectuer une simulation de $n$ déplacements consécutifs. Le robot démarre au point de coordonnées (0; 0). \n",
    "\n",
    "__Q12.__ Compléter le script suivant, qui affiche la trajectoire du robot, afin qu'il renvoie les coordonnées du robot après les déplacements."
   ]
  },
  {
   "cell_type": "code",
   "execution_count": 5,
   "metadata": {},
   "outputs": [
    {
     "name": "stdout",
     "output_type": "stream",
     "text": [
      "(248.17643787133858, 67.648701146900805)\n"
     ]
    }
   ],
   "source": [
    "# Création des fonctions cosinus et sinus en degrés\n",
    "import numpy as np\n",
    "def cos(x):\n",
    "    return np.cos(np.pi*x/180)\n",
    "\n",
    "def sin(x):\n",
    "    return np.sin(np.pi*x/180)\n",
    "\n",
    "# Fonctions permettant d'afficher les déplacements du robot\n",
    "import turtle\n",
    "\n",
    "def simulationDeplacements(n):\n",
    "    x,y = 0,0\n",
    "    for i in range(n):\n",
    "        angle,distance = deplacement()\n",
    "        turtle.setheading(angle)\n",
    "        turtle.forward(distance)\n",
    "        x = x + distance * np.cos(angle)\n",
    "        y = y + distance * np.sin(angle)\n",
    "    turtle.exitonclick()\n",
    "    return x,y\n",
    "\n",
    "# Les lignes suivantes exécutent la fonction simulationDeplacements. \n",
    "# Les instructions try et except ne présentent pas d'intérêt pour nous mais permettent d'éviter un bug du module turtle.\n",
    "\n",
    "try:\n",
    "    print(simulationDeplacements(10))\n",
    "except:\n",
    "    print(simulationDeplacements(10))\n"
   ]
  },
  {
   "cell_type": "markdown",
   "metadata": {},
   "source": [
    "# 3. Variables aléatoires réelles\n",
    "\n",
    "__Définition__\n",
    "\n",
    "On considère une expérience dont l'univers est un ensemble fini $\\Omega$.\n",
    "Une variable aléatoire $X$ est une fonction définie sur $\\Omega$ et à valeurs dans $\\mathbb{R}$.\n",
    "\n",
    "__Exemples__\n",
    "- La variable $X$ qui, à tout lancer d'un dé à six faces, associe le nombre obtenu sur la face supérieure est une variable aléatoire à valeurs dans {1; 2; 3; 4; 5; 6}.\n",
    "- La variable $Y$ qui, à toute série de 10 tirs de Loic, associe le nombre de fois où il touche la pile est une variable aléatoire à valeurs dans {0; 1; 2; 3; 4; 5; 6; 7; 8; 9; 10}.\n",
    "- La variable qui, à tout déplacement du robot, associe la distance parcourue en centimètres est une variable aléatoire à valeurs dans [20 ; 100]. Cet exemple dépasse le cadre du programme de première car l'ensemble des déplacements est infini.\n",
    "\n",
    "__Définition__\n",
    "\n",
    "La loi de probabilité d'une variable aléatoire $X$ est la donnée de la probabilité $P(X=x_i)$ de l'évènement {$X=x_i$} pour chaque valeur $x_i$ prise par $X$.\n",
    "\n",
    "__Exemples__\n",
    "- La loi de probabilité de la variable $X$ est donnée par : $\\forall n \\in$ {1; 2; 3; 4; 5; 6}, $P(X=n) = \\frac{1}{6}$\n",
    "- La loi de probabilité de la variable $Y$ est plus complexe à déterminer mais peut être estimée statistiquement. On rappelle que la fréquence de réalisation d'un évènement lors de $n$ expériences se rapproche de la probabilité de réalisation de cet évènement quand $n$ est très grand.\n",
    "\n",
    "__Q13.__ Ecrire la fonction $simulationFreq(n)$ renvoyant la fréquence d'apparition de chaque résultat, les résultats étant $\\{Y=0\\}$, $\\{Y=1\\}$, ..., $\\{Y=10\\}$.\n",
    "On utilisera, sans chercher à comprendre son fonctionnement, la fonction afficheResultat qui permet d'afficher les fréquences sous forme de tableau."
   ]
  },
  {
   "cell_type": "code",
   "execution_count": 8,
   "metadata": {},
   "outputs": [
    {
     "data": {
      "text/html": [
       "<table><tr><td>n</td><td>0</td><td>1</td><td>2</td><td>3</td><td>4</td><td>5</td><td>6</td><td>7</td><td>8</td><td>9</td><td>10</td></tr><tr><td>P(Y=n)</td><td>0.0002</td><td>0.003</td><td>0.0111</td><td>0.0239</td><td>0.0532</td><td>0.1009</td><td>0.156</td><td>0.1965</td><td>0.1972</td><td>0.1604</td><td>0.0976</td></tr></table>"
      ],
      "text/plain": [
       "<IPython.core.display.HTML object>"
      ]
     },
     "metadata": {},
     "output_type": "display_data"
    }
   ],
   "source": [
    "from IPython.display import HTML, display\n",
    "\n",
    "def simulationFreq(n):\n",
    "    \"\"\"appelle n fois simulation10TirV2 et renvoie une liste freq contenant la fréquence \n",
    "    d'obtiention de chaque résultat\"\"\"\n",
    "    freq = [0]*11\n",
    "    for i in range(n):\n",
    "        nbr_touche = simulation10TirV2()\n",
    "        freq[nbr_touche] += 1\n",
    "    for i in range(11):\n",
    "        freq[i] = freq[i]/n\n",
    "    return freq\n",
    "\n",
    "def afficheResultat(freq):\n",
    "    data = [[\"n\",0,1,2,3,4,5,6,7,8,9,10],\n",
    "        [\"P(Y=n)\"]+freq] \n",
    "    display(HTML(\n",
    "       '<table><tr>{}</tr></table>'.format(\n",
    "           '</tr><tr>'.join(\n",
    "               '<td>{}</td>'.format('</td><td>'.join(str(_) for _ in row)) for row in data)\n",
    "           )\n",
    "    ))\n",
    "\n",
    "freq = simulationFreq(10000)\n",
    "afficheResultat(freq)"
   ]
  },
  {
   "cell_type": "markdown",
   "metadata": {
    "slideshow": {
     "slide_type": "subslide"
    }
   },
   "source": [
    "__Définition__\n",
    "\n",
    "On étend les notions de moyenne, de variance et d'écart type des séries statistiques aux variables aléatoires.\n",
    "\n",
    "$X$ étant une variable aléatoire prenant les valeurs $x_i$ avec des probabilités $p_i$, on définit :\n",
    "\n",
    "- L'espérance de $X$ : $E(X) = \\sum_{i=1}^{n} p_i x_i$ \n",
    "- La variance de $X$ : $V(X) = \\sum_{i=1}^{n} {p_i (x_i - \\bar{x})^2}$ (moyenne des carrés des écarts des valeurs à la moyenne)\n",
    "- L'écart type de $X$ : $\\sigma(X) = \\sqrt{V(X)}$ \n",
    "\n",
    "__Exemples__\n",
    "\n",
    "$E(X) = \\sum_{i=1}^{6} p_i x_i = \\frac{1}{6} \\times 1 + \\frac{1}{6} \\times 2 + \\frac{1}{6} \\times 3 + \\frac{1}{6} \\times 4 + \\frac{1}{6} \\times 5 + \\frac{1}{6} \\times 6 = \\frac{21}{6} = 3,5$ \n",
    "\n",
    "$V(X) = \\sum_{i=1}^{6} {p_i (x_i - \\bar{x})^2} = \\frac{1}{6} \\times (1 - 3,5)^2 + \\frac{1}{6} \\times (2 - 3,5)^2 + \\frac{1}{6} \\times (3 - 3,5)^2 + \\frac{1}{6} \\times (4 - 3,5)^2 + \\frac{1}{6} \\times (5 - 3,5)^2 + \\frac{1}{6} \\times (6 - 3,5)^2 = \\frac{35}{12}$ \n",
    "\n",
    "$\\sigma(X) = \\sqrt{V(X)} = \\sqrt{\\frac{35}{12}} \\approx 1,7$ "
   ]
  },
  {
   "cell_type": "markdown",
   "metadata": {},
   "source": [
    "# Exercices\n",
    "## Exercice 1\n",
    "\n",
    "La fonction $frequenceLettres$ ci-dessous calcule pour l'instant le nombre d'apparitions de chaque lettre dans un texte. Compléter cette fonction pour qu'elle renvoie dans la liste $freq$ la fréquence d'apparition de chaque lettre.\n",
    "\n",
    "Les plus motivés pourront rajouter quelques lignes pour gérer les lettres accentuées (cette partie est plus proche de la NSI que des mathématiques)."
   ]
  },
  {
   "cell_type": "code",
   "execution_count": 122,
   "metadata": {},
   "outputs": [],
   "source": [
    "def frequenceLettres(texte):\n",
    "    texmin = texte.casefold()  # convertit le texte en lettres minuscules\n",
    "    freq = [0]*26\n",
    "    for lettre in texmin:\n",
    "        num = ord(lettre) - 97  # renvoie un nombre associé à chaque caractère entre 0 et 25\n",
    "        if 0 <= num <= 25:\n",
    "            freq[num] += 1\n",
    "    # compléter ici la fonction par une ou plusieurs lignes\n",
    "    n = len(texte)\n",
    "    for i in range(len(freq)):\n",
    "        freq[i] = freq[i]/n\n",
    "    return freq"
   ]
  },
  {
   "cell_type": "markdown",
   "metadata": {},
   "source": [
    "Tester la fonction précédente sur le petit chaperon rouge en français."
   ]
  },
  {
   "cell_type": "code",
   "execution_count": 123,
   "metadata": {},
   "outputs": [
    {
     "name": "stdout",
     "output_type": "stream",
     "text": [
      "Fréquence de a  :  0.060323553605703316\n",
      "Fréquence de b  :  0.007403345215245407\n",
      "Fréquence de c  :  0.02111324376199616\n",
      "Fréquence de d  :  0.021935837674801208\n",
      "Fréquence de e  :  0.11516314779270634\n",
      "Fréquence de f  :  0.007129147244310392\n",
      "Fréquence de g  :  0.012887304633945709\n",
      "Fréquence de h  :  0.009871126953660542\n",
      "Fréquence de i  :  0.05017822868110776\n",
      "Fréquence de j  :  0.0021935837674801205\n",
      "Fréquence de k  :  0.0\n",
      "Fréquence de l  :  0.05182341650671785\n",
      "Fréquence de m  :  0.021935837674801208\n",
      "Fréquence de n  :  0.042774883465862355\n",
      "Fréquence de o  :  0.04332327940773238\n",
      "Fréquence de p  :  0.02604880723882643\n",
      "Fréquence de q  :  0.009871126953660542\n",
      "Fréquence de r  :  0.05209761447765286\n",
      "Fréquence de s  :  0.03729092404716205\n",
      "Fréquence de t  :  0.06580751302440362\n",
      "Fréquence de u  :  0.048258842884562655\n",
      "Fréquence de v  :  0.016451878256100904\n",
      "Fréquence de w  :  0.0\n",
      "Fréquence de x  :  0.002741979709350151\n",
      "Fréquence de y  :  0.0024677817384151355\n",
      "Fréquence de z  :  0.0019193857965451055\n"
     ]
    }
   ],
   "source": [
    "text = \"\"\"\n",
    "Il était une fois une petite fille de village, la plus éveillée qu’on eût su voir : sa mère en était folle, et sa mère-grand plus folle encore. Cette bonne femme lui fit faire un petit chaperon rouge qui lui seyait si bien, que partout on l’appelait le petit Chaperon rouge. \n",
    "Un jour, sa mère ayant cuit et fait des galettes, lui dit : « Va voir comment se porte ta mère-grand, car on m’a dit qu’elle était malade. Porte-lui une galette et ce petit pot de beurre. » \n",
    "Le petit Chaperon rouge partit aussitôt pour aller chez sa mère-grand, qui demeurait dans un autre village. En passant dans un bois, elle rencontra compère le Loup, qui eut bien envie de la manger ; mais il n’osa, à cause de quelques bûcherons qui étaient dans la forêt. Il lui demanda où elle allait. La pauvre enfant, qui ne savait pas qu’il était dangereux de s’arrêter à écouter un loup, lui dit : Je vais voir ma mère-grand, et lui porter une galette, avec un petit pot de beurre, que ma mère lui envoie. — Demeure-t-elle bien loin ? lui dit le loup. — Oh ! oui, dit le petit Chaperon rouge ; c’est par delà le moulin que vous voyez tout là-bas, à la première maison du village. — Eh bien ! dit le Loup, je veux l’aller voir aussi : je m’y en vais par ce chemin-ci, et toi par ce chemin-là ; et nous verrons à qui plus tôt y sera. \n",
    "Le Loup se mit à courir de toute sa force par le chemin qui était le plus court, et la petite fille s’en alla par le chemin le plus long, s’amusant à cueillir des noisettes, à courir après des papillons, et à faire des bouquets des petites fleurs qu’elle rencontrait. \n",
    "Le Loup ne fut pas longtemps à arriver à la maison de la mère-grand ; il heurte : toc, toc. — Qui est là ? — C’est votre fille, le petit Chaperon rouge, dit le Loup en contrefaisant sa voix, qui vous apporte une galette et un petit pot de beurre, que ma mère vous envoie. — La bonne mère-grand, qui était dans son lit, à cause qu’elle se trouvait un peu mal, lui cria : Tire la chevillette, la bobinette cherra. — Le Loup tira la chevillette, et la porte s’ouvrit. Il se jeta sur la bonne femme, et la dévora en moins de rien, car il y avait plus de trois jours qu’il n’avait mangé. \n",
    "Ensuite il ferma la porte, et s’alla coucher dans le lit de la mère-grand, en attendant le petit Chaperon rouge, qui, quelque temps après, vint heurter à la porte : toc, toc. — Qui est là ? — Le petit Chaperon rouge, qui entendit la grosse voix du Loup, eut peur d’abord, mais, croyant que sa mère-grand était enrhumée, répondit : C’est votre fille, le petit Chaperon rouge, qui vous apporte une galette et un petit pot de beurre, que ma mère vous envoie. — Le Loup lui cria en adoucissant un peu sa voix : Tire la chevillette, la bobinette cherra. — Le petit Chaperon rouge tira la chevillette, et la porte s’ouvrit. \n",
    "Le Loup, la voyant entrer, lui dit en se cachant dans le lit, sous la couverture : Mets la galette et le petit pot de beurre sur la huche, et viens te coucher avec moi. Le petit Chaperon rouge se déshabille, et va se mettre dans le lit, où elle fut bien étonnée de voir comment sa mère-grand était faite en son déshabillé. — Elle lui dit : Ma mère-grand, que vous avez de grands bras ! — C’est pour mieux t’embrasser, ma fille ! — Ma mère-grand, que vous avez de grandes jambes ! — C’est pour mieux courir, mon enfant ! — Ma mère-grand, que vous avez de grandes oreilles ! — C’est pour mieux écouter, mon enfant ! — Ma mère-grand, que vous avez de grands yeux ! — C’est pour mieux te voir, mon enfant ! — Ma mère-grand, que vous avez de grandes dents ! — C’est pour te manger ! Et, en disant ces mots, ce méchant Loup se jeta sur le petit Chaperon rouge, et la mangea. \n",
    "\"\"\"\n",
    "t2=text.casefold()  # convertit les majuscules en minuscules\n",
    "lstfreq = frequenceLettres(t2)      \n",
    "for i in range(len(lstfreq)):\n",
    "    print(\"Fréquence de\",chr(i+97),\" : \",lstfreq[i])"
   ]
  },
  {
   "cell_type": "markdown",
   "metadata": {},
   "source": [
    "Tester sur une traduction anglaise."
   ]
  },
  {
   "cell_type": "code",
   "execution_count": 124,
   "metadata": {},
   "outputs": [
    {
     "name": "stdout",
     "output_type": "stream",
     "text": [
      "Fréquence de a  :  0.05495118549511855\n",
      "Fréquence de b  :  0.014504881450488146\n",
      "Fréquence de c  :  0.012552301255230125\n",
      "Fréquence de d  :  0.044630404463040445\n",
      "Fréquence de e  :  0.09679218967921897\n",
      "Fréquence de f  :  0.013389121338912133\n",
      "Fréquence de g  :  0.02398884239888424\n",
      "Fréquence de h  :  0.05801952580195258\n",
      "Fréquence de i  :  0.04686192468619247\n",
      "Fréquence de j  :  0.0\n",
      "Fréquence de k  :  0.005578800557880056\n",
      "Fréquence de l  :  0.039888423988842396\n",
      "Fréquence de m  :  0.016457461645746164\n",
      "Fréquence de n  :  0.03933054393305439\n",
      "Fréquence de o  :  0.06666666666666667\n",
      "Fréquence de p  :  0.008647140864714086\n",
      "Fréquence de q  :  0.0002789400278940028\n",
      "Fréquence de r  :  0.049372384937238493\n",
      "Fréquence de s  :  0.03096234309623431\n",
      "Fréquence de t  :  0.07754532775453278\n",
      "Fréquence de u  :  0.01896792189679219\n",
      "Fréquence de v  :  0.006136680613668061\n",
      "Fréquence de w  :  0.0198047419804742\n",
      "Fréquence de x  :  0.0008368200836820083\n",
      "Fréquence de y  :  0.012831241283124128\n",
      "Fréquence de z  :  0.0002789400278940028\n"
     ]
    }
   ],
   "source": [
    "text = \"\"\"\n",
    "Once upon a time there lived in a certain village a little country girl, the prettiest creature who was ever seen. Her mother was excessively fond of her; and her grandmother doted on her still more. This good woman had a little red riding hood made for her. It suited the girl so extremely well that everybody called her Little Red Riding Hood. \n",
    "One day her mother, having made some cakes, said to her, \"Go, my dear, and see how your grandmother is doing, for I hear she has been very ill. Take her a cake, and this little pot of butter.\" \n",
    "Little Red Riding Hood set out immediately to go to her grandmother, who lived in another village. \n",
    "As she was going through the wood, she met with a wolf, who had a very great mind to eat her up, but he dared not, because of some woodcutters working nearby in the forest. He asked her where she was going. The poor child, who did not know that it was dangerous to stay and talk to a wolf, said to him, \"I am going to see my grandmother and carry her a cake and a little pot of butter from my mother.\" \n",
    "\"Does she live far off?\" said the wolf \n",
    "\"Oh I say,\" answered Little Red Riding Hood; \"it is beyond that mill you see there, at the first house in the village.\" \n",
    "\"Well,\" said the wolf, \"and I'll go and see her too. I'll go this way and go you that, and we shall see who will be there first.\" \n",
    "The wolf ran as fast as he could, taking the shortest path, and the little girl took a roundabout way, entertaining herself by gathering nuts, running after butterflies, and gathering bouquets of little flowers. It was not long before the wolf arrived at the old woman's house. He knocked at the door: tap, tap. \n",
    "\"Who's there?\" \n",
    "\"Your grandchild, Little Red Riding Hood,\" replied the wolf, counterfeiting her voice; \"who has brought you a cake and a little pot of butter sent you by mother.\" \n",
    "The good grandmother, who was in bed, because she was somewhat ill, cried out, \"Pull the bobbin, and the latch will go up.\" \n",
    "The wolf pulled the bobbin, and the door opened, and then he immediately fell upon the good woman and ate her up in a moment, for it been more than three days since he had eaten. He then shut the door and got into the grandmother's bed, expecting Little Red Riding Hood, who came some time afterwards and knocked at the door: tap, tap. \n",
    "\"Who's there?\" \n",
    "Little Red Riding Hood, hearing the big voice of the wolf, was at first afraid; but believing her grandmother had a cold and was hoarse, answered, \"It is your grandchild Little Red Riding Hood, who has brought you a cake and a little pot of butter mother sends you.\" \n",
    "The wolf cried out to her, softening his voice as much as he could, \"Pull the bobbin, and the latch will go up.\" \n",
    "Little Red Riding Hood pulled the bobbin, and the door opened. \n",
    "The wolf, seeing her come in, said to her, hiding himself under the bedclothes, \"Put the cake and the little pot of butter upon the stool, and come get into bed with me.\" \n",
    "Little Red Riding Hood took off her clothes and got into bed. She was greatly amazed to see how her grandmother looked in her nightclothes, and said to her, \"Grandmother, what big arms you have!\" \n",
    "\"All the better to hug you with, my dear.\" \"Grandmother, what big legs you have!\" \"All the better to run with, my child.\" \n",
    "\"Grandmother, what big ears you have!\" \"All the better to hear with, my child.\" \"Grandmother, what big eyes you have!\" \n",
    "\"All the better to see with, my child.\" \"Grandmother, what big teeth you have got!\" \n",
    "\"All the better to eat you up with.\" \n",
    "And, saying these words, this wicked wolf fell upon Little Red Riding Hood, and ate her all up. \"\"\"\n",
    "t2=text.casefold()\n",
    "lstfreq = frequenceLettres(t2)      \n",
    "for i in range(len(lstfreq)):\n",
    "    print(\"Fréquence de\",chr(i+97),\" : \",lstfreq[i])"
   ]
  },
  {
   "cell_type": "markdown",
   "metadata": {},
   "source": [
    "Expliquer comment un programme peut déterminer si un texte est en français ou en anglais.\n",
    "\n",
    "Les lettres n'apparaissent pas avec la même fréquence en français et en anglais. En calculant la fréquence des lettres dans un texte, un programme peut ainsi déterminer la langue utilisée. Par exemple, les lettres w et y apparaissent beaucoup plus en anglais. Ainsi, si les fréquences de y et de w dans le texte sont supérieures à 0.01 ou 0.007 par exemple, on peut penser que le texte est en anglais."
   ]
  },
  {
   "cell_type": "markdown",
   "metadata": {},
   "source": [
    "## Exercice 2\n",
    "On considère la variable aléatoire $X$, qui à tout lancer de deux dés, associe $|a-b|$ où $a$ et $b$ sont les nombres obtenus sur chaque dé.  \n",
    "On rappelle que $|a-b|$, que l'on lit valeur absolue de $a-b$ est la distance entre les nombres $a$ et $b$.  \n",
    "1\\. Déterminer la loi de probabilité de la variable $X$.  \n",
    "2\\. Calculer son espérance et son écart type $\\sigma$ au centième.  \n",
    "3\\. Écrire la fonction $unLancer$ qui simule un lancer de deux dés et renvoie la valeur prise par $X$."
   ]
  },
  {
   "cell_type": "markdown",
   "metadata": {},
   "source": [
    "1\\. La technique la plus simple est peut-être d'utiliser un tableau pour obtenir tous les tirages possibles.\n",
    "\n",
    "|     |1|2|3|4|5|6|\n",
    "|:---:|---|---|---|---|---|---|\n",
    "|**1**|0|1|2|3|4|5|\n",
    "|**2**|1|0|1|2|3|4|\n",
    "|**3**|2|1|0|1|2|3|\n",
    "|**4**|3|2|1|0|1|2|\n",
    "|**5**|4|3|2|1|0|1|\n",
    "|**6**|5|4|3|2|1|0|\n",
    "\n",
    "On peut ensuite donner la loi du probabilité (chaque résultat possible avec sa probabilité). Par exemple, 0 apparait 6 fois sur 36 donc $P(X=0) = \\frac{6}{36}$.\n",
    "\n",
    "|$x_i$        |0|1|2|3|4|5|\n",
    "|-------------|-|-|-|-|-|-|\n",
    "|$P$(X=$x_i$) |$\\frac{6}{36}$|$\\frac{10}{36}$|$\\frac{8}{36}$|$\\frac{6}{36}$|$\\frac{4}{36}$|$\\frac{2}{36}$|\n",
    "\n",
    "En simplifiant les fractions, on obtient :\n",
    "\n",
    "|$x_i$        |0|1|2|3|4|5|\n",
    "|-------------|-|-|-|-|-|-|\n",
    "|$P$(X=$x_i$) |$\\frac{1}{6}$|$\\frac{5}{18}$|$\\frac{2}{9}$|$\\frac{1}{6}$|$\\frac{1}{9}$|$\\frac{1}{18}$|\n",
    "\n",
    "2\\. L'espérance de $X$ est $E(X) = \\sum_{i=1}^{6} p_i x_i = \\frac{1}{6} \\times 0 + \\frac{5}{18} \\times 1 + \\frac{2}{9} \\times 2 + \\frac{1}{6} \\times 3 + \\frac{1}{9} \\times 4 + \\frac{1}{18} \\times 5 = \\frac{5}{18} + \\frac{8}{18} + \\frac{9}{18} + \\frac{8}{18} + \\frac{5}{18} = \\frac{35}{18}$\n",
    "\n",
    "Pour calculer l'écart type de $X$, on commence par calculer sa variance :\n",
    "$V(X) = \\sum_{i=1}^{6} {p_i (x_i - \\bar{x})^2} = \\frac{1}{6} (0 - \\frac{35}{18})^2 + \\frac{5}{18} (1 - \\frac{35}{18})^2 + \\frac{2} {9} (2 - \\frac{35}{18})^2 + \\frac{1}{6} (3 - \\frac{35}{18})^2 + \\frac{1}{9} (4 - \\frac{35}{18})^2 + \\frac{1}{18} (5 - \\frac{35}{18})^2 = \\frac{665}{324}$ \n",
    "\n",
    "\n",
    "D'où l'écart type de $X$ : $\\sigma(X) = \\sqrt{V(X)} = \\frac{\\sqrt{665}}{18} \\approx 1,43$ \n",
    "\n",
    "3\\."
   ]
  },
  {
   "cell_type": "code",
   "execution_count": 10,
   "metadata": {},
   "outputs": [],
   "source": [
    "from random import randint\n",
    "\n",
    "def unLancer():\n",
    "    de1 = randint(1,6)\n",
    "    de2 = randint(1,6)\n",
    "    x = abs(de1 - de2)\n",
    "    return x"
   ]
  },
  {
   "cell_type": "markdown",
   "metadata": {},
   "source": [
    "4\\. Écrire la fonction $moyenneEchantillon$ qui simule $n$ lancers de deux dés et renvoie la valeur moyenne de $X$ obtenue sur ces $n$ lancers. Le résultat obtenu avec 100 000 lancers est-il proche du résultat théorique ?"
   ]
  },
  {
   "cell_type": "code",
   "execution_count": 11,
   "metadata": {},
   "outputs": [
    {
     "data": {
      "text/plain": [
       "1.94306"
      ]
     },
     "execution_count": 11,
     "metadata": {},
     "output_type": "execute_result"
    }
   ],
   "source": [
    "def moyenneEchantillon(n):\n",
    "    xmoy = 0\n",
    "    for i in range(n):\n",
    "        xmoy += unLancer()\n",
    "    xmoy = xmoy/n\n",
    "    return xmoy\n",
    "\n",
    "moyenneEchantillon(100000)"
   ]
  },
  {
   "cell_type": "markdown",
   "metadata": {},
   "source": [
    "On est bien proche du résultat théorique puisque $\\frac{35}{18} \\approx 1,94$."
   ]
  },
  {
   "cell_type": "markdown",
   "metadata": {},
   "source": [
    "5\\. Écrire une fonction permettant d'estimer $P(X<3)$, la probabilité de l'évènement {$X<3$}. Vérifier que cette estimation correspond au résultat attendu."
   ]
  },
  {
   "cell_type": "code",
   "execution_count": 12,
   "metadata": {},
   "outputs": [
    {
     "data": {
      "text/plain": [
       "0.66819"
      ]
     },
     "execution_count": 12,
     "metadata": {},
     "output_type": "execute_result"
    }
   ],
   "source": [
    "def estime(n):\n",
    "    c = 0\n",
    "    for i in range(n):\n",
    "        if unLancer()<3:\n",
    "            c += 1\n",
    "    return c/n\n",
    "\n",
    "estime(100000)"
   ]
  },
  {
   "cell_type": "markdown",
   "metadata": {},
   "source": [
    "$P(X<3) = P(X=0) + P(X=1) + P(X=2) = \\frac{6}{36} + \\frac{8}{36} + \\frac{10}{36} = \\frac{24}{36} = \\frac{2}{3} \\approx 0,67$ donc l'estimation correspond bien au résultat attendu."
   ]
  },
  {
   "cell_type": "markdown",
   "metadata": {},
   "source": [
    "La fonction suivante simule $N$ échantillons de taille $n$ et renvoie les distances entre la moyenne de chaque échantillon et l'espérance de $X$."
   ]
  },
  {
   "cell_type": "code",
   "execution_count": 14,
   "metadata": {},
   "outputs": [],
   "source": [
    "def distanceMoyenneEsperance(N, n, esp):\n",
    "    distance = []\n",
    "    for i in range(N):\n",
    "        dist = (moyenneEchantillon(n) - esp)\n",
    "        distance.append(dist)\n",
    "    return distance"
   ]
  },
  {
   "cell_type": "markdown",
   "metadata": {},
   "source": [
    "Le code suivant permet de représenter cet écart."
   ]
  },
  {
   "cell_type": "code",
   "execution_count": 15,
   "metadata": {},
   "outputs": [
    {
     "data": {
      "image/png": "[encoded data removed]",
      "text/plain": [
       "<matplotlib.figure.Figure at 0x1c3b9c53a90>"
      ]
     },
     "metadata": {},
     "output_type": "display_data"
    }
   ],
   "source": [
    "import matplotlib.pyplot as plt\n",
    "esp = 35/18\n",
    "dist = distanceMoyenneEsperance(1000,1000,esp)  \n",
    "plt.plot(dist)\n",
    "plt.show()"
   ]
  },
  {
   "cell_type": "markdown",
   "metadata": {},
   "source": [
    "6\\. Compléter le code ci-dessous pour calculer la proportion des cas où l’écart entre la moyenne d'un échantillon et l'espérance de $X$ est inférieur ou égal à $\\frac{2 \\sigma}{\\sqrt{n}}$ dans la liste $dist$.  \n",
    "7\\. Cette proportion varie-t-elle beaucoup lors de plusieurs simulations ?"
   ]
  },
  {
   "cell_type": "code",
   "execution_count": 131,
   "metadata": {},
   "outputs": [
    {
     "name": "stdout",
     "output_type": "stream",
     "text": [
      "0.962\n"
     ]
    }
   ],
   "source": [
    "from math import sqrt\n",
    "\n",
    "dist = distanceMoyenneEsperance(1000,1000,esp)\n",
    "sigma = sqrt(665)/18\n",
    "n = 1000\n",
    "esp = 35/18   \n",
    "c = 0        # variable comptant le nombre de cas vérifiant la condition\n",
    "for d in dist:\n",
    "    if abs(d) < 2*sigma/sqrt(n):\n",
    "        c += 1\n",
    "print(c/len(dist))"
   ]
  },
  {
   "cell_type": "markdown",
   "metadata": {},
   "source": [
    "7\\. Cette proportion ne varie pas beaucoup lors des différentes simulations. Elle est autour de 0,95.\n",
    "Il semblerait que $P(|X - E(X)| < \\frac{2 \\sigma}{\\sqrt{n}}) \\approx 0,95$.\n",
    "En d'autres termes, dans 95% des simulations, la valeur de la variable aléatoire $X$ tombe dans l'intervalle $[E(X)-\\frac{2 \\sigma}{\\sqrt{n}} ; E(X) + \\frac{2 \\sigma}{\\sqrt{n}}]$."
   ]
  },
  {
   "cell_type": "markdown",
   "metadata": {},
   "source": [
    "## Exercice 3\n",
    "On s'intéresse au nombre de filles et de garçons dans des familles de $n$ enfants.  \n",
    "On admet que la probabilité qu'un enfant soit un garçon est égale à 0,5.\n",
    "\n",
    "1\\. Compléter la fonction $famille(n)$ simulant une famille à $n$ enfants et renvoyant le nombre de garçons. "
   ]
  },
  {
   "cell_type": "code",
   "execution_count": 1,
   "metadata": {},
   "outputs": [],
   "source": [
    "from random import random\n",
    "\n",
    "def famille(n):\n",
    "    nbg = 0\n",
    "    for i in range(n):\n",
    "        if random()<0.5:\n",
    "            nbg += 1\n",
    "    return nbg"
   ]
  },
  {
   "cell_type": "markdown",
   "metadata": {},
   "source": [
    "2\\. Écrire une fonction $echantillon(nb,n)$ simulant un échantillon de $nb$ familles à $n$ enfants et renvoyant une liste contenant le nombre de garçons dans chaque famille."
   ]
  },
  {
   "cell_type": "code",
   "execution_count": 4,
   "metadata": {},
   "outputs": [
    {
     "data": {
      "text/plain": [
       "[1, 2, 0, 2, 2, 1, 1, 1, 2, 2, 3, 1, 0, 3, 2, 2, 2, 0, 3, 3]"
      ]
     },
     "execution_count": 4,
     "metadata": {},
     "output_type": "execute_result"
    }
   ],
   "source": [
    "def echantillon(nb, n):\n",
    "    lstgarcons = []\n",
    "    for i in range(nb):\n",
    "        lstgarcons.append(famille(n))\n",
    "    return lstgarcons\n",
    "\n",
    "# On peut aussi utiliser les listes en compréhension.\n",
    "# Les deux versions font exactement la même chose:\n",
    "# elles renvoient une liste contenant le nombre de garçons dans chaque famille.\n",
    "\n",
    "def echantillon(nb, n):\n",
    "    return [famille(n) for i in range(nb)]\n",
    "\n",
    "\n",
    "echantillon(20,4)"
   ]
  },
  {
   "cell_type": "markdown",
   "metadata": {},
   "source": [
    "On prend maintenant $n$ = 4 .  \n",
    "On note $X$ la variable aléatoire qui, à toute famille de $n$ enfants, associe le nombre de garçons.\n",
    "\n",
    "3\\. Écrire une fonction permettant de calculer la moyenne d'un échantillon de taille $nb$ de valeurs prises par la variable aléatoire $X$. Le résultat obtenu avec $n=10000$ vous semble-t-il cohérent ?"
   ]
  },
  {
   "cell_type": "code",
   "execution_count": 5,
   "metadata": {},
   "outputs": [
    {
     "data": {
      "text/plain": [
       "2.00215"
      ]
     },
     "execution_count": 5,
     "metadata": {},
     "output_type": "execute_result"
    }
   ],
   "source": [
    "def moyenneEchantillon(nb):\n",
    "    lstgarcon = echantillon(nb, 4)\n",
    "    moy = 0\n",
    "    for x in lstgarcon:\n",
    "        moy += x\n",
    "    return moy/len(lstgarcon)\n",
    "\n",
    "moyenneEchantillon(100000)"
   ]
  },
  {
   "cell_type": "markdown",
   "metadata": {},
   "source": [
    "Cette fonction permet de calculer la moyenne d'un échantillon de taille $nb$ de valeurs prises par la variable aléatoire $X$.\n",
    "Le résultat obtenu semble cohérent puisque dans des familles de 4 enfants, on aura bien 2 garçons en moyenne."
   ]
  },
  {
   "cell_type": "markdown",
   "metadata": {},
   "source": [
    "4\\. A l'aide d'un arbre, déterminer la loi de probabilité de la variable aléatoire $X$.\n",
    "\n",
    "5\\. Calculer l'espérance $\\mu$ et l'écart type $\\sigma$ de la variable aléatoire $X$.\n",
    "\n",
    "6\\. Dans le code ci-dessous :  \n",
    "- Expliquer la ligne `ecarts = [abs(moyenneEchantillon(nb)-esp) for i in range(N)]`.  \n",
    "- Que représente la variable c ?\n",
    "\n",
    "7\\. Simuler 1 000 échantillons de taille 50 de valeurs prises par la variable aléatoire $X$ et calculer les écarts entre la moyenne $m$ de chaque échantillon et l'espérance $\\mu$ de $X$. Déterminer la proportion des cas où cet écart est inférieur ou égal à $\\frac{2 \\sigma}{\\sqrt{n}}$."
   ]
  },
  {
   "cell_type": "markdown",
   "metadata": {},
   "source": [
    "4\\. On fait un arbre avec deux branches pour le premier enfant (F pour fille et G pour garçon), qui se divisent en deux pour le deuxième enfant (F et G), puis chaque branche se divise encore en deux pour le troisième enfant (on a alors 8 branches), en enfin, chaque branche se divise en deux pour la quatrième enfant. L'arbre a au total 16 branches. Les probabilités portées sur les branches sont toutes égales à $\\frac{1}{2}$. Si à chaque division, on a écrit un F en haut et un G en bas, le chemin du haut est F-F-F-F et le chemin du bas est G-G-G-G.\n",
    "La variable $X$, égale au nombre de garçons peut prendre pour valeurs 0, 1, 2, 3 ou 4.\n",
    "- $P(X = 0) = \\left(\\frac{1}{2}\\right)^4 = \\frac{1}{16}$   (correspond au chemin F-F-F-F)\n",
    "- $P(X = 1) = 4 \\times \\left(\\frac{1}{2}\\right)^4 = \\frac{1}{4}$   (correspond aux chemins G-F-F-F, F-G-F-F, F-F-G-F, F-F-F-G)\n",
    "- $P(X = 2) = 6 \\times \\left(\\frac{1}{2}\\right)^4 = \\frac{3}{8}$   (correspond aux chemins G-G-F-F, G-F-G-F, G-F-F-G, F-G-G-F, F-G-F-G, F-F-G-G)\n",
    "- $P(X = 3) = 4 \\times \\left(\\frac{1}{2}\\right)^4 = \\frac{1}{4}$   (correspond aux chemins G-G-G-F, G-G-F-G, G-F-G-G, F-G-G-G)\n",
    "- $P(X = 4) = \\left(\\frac{1}{2}\\right)^4 = \\frac{1}{16}$   (correspond au chemin G-G-G-G)\n",
    "\n",
    "On peut donner la loi de probabilité dans un tableau mais ce n'est pas obligatoire.\n",
    "\n",
    "5\\. $\\mu = E(X) = \\sum_{i=1}^{5} p_i x_i = \\frac{1}{16} \\times 0 + \\frac{1}{4} \\times 1 + \\frac{3}{8} \\times 2 + \\frac{1}{4} \\times 3 + \\frac{1}{16} \\times 4 = \\frac{1}{4} + \\frac{3}{4} + \\frac{3}{4} + \\frac{1}{4} = 2$\n",
    "\n",
    "$V(X) = \\sum_{i=1}^{5} {p_i (x_i - \\bar{x})^2} = \\frac{1}{16} (0 - 2)^2 + \\frac{1}{4} (1 - 2)^2 + \\frac{3}{8} (2 - 2)^2 + \\frac{1}{4} (3 - 2)^2 + \\frac{1}{16} (4 - 2)^2 = \\frac{1}{16} \\times 4 + \\frac{1}{4} + \\frac{1}{4} + \\frac{1}{16} \\times 4 = 1$ \n",
    "\n",
    "D'où $\\sigma(X) = \\sqrt{V(X)} = \\sqrt{1} = 1$ \n",
    "\n",
    "6\\. \n",
    "- `ecarts = [abs(moyenneEchantillon(nb)-esp) for i in range(N)]` crée une liste en compréhension nommée ecarts contenant N valeurs. Chacune de ces valeurs est calculée ainsi : `moyenneEchantillon(nb)` renvoie le nombre moyen de garçons par famille dans un échantillon de nb familles aléatoires à 4 enfants. `abs(moyenneEchantillon(nb)-esp)` calcule pour chaque échantillon l'écart (positif, en valeur absolue) entre ce nombre moyen et l'espérance.\n",
    "- La variable c compte le nombre de valeurs de la liste ecart inférieures ou égales à $\\frac{2 \\sigma}{\\sqrt{n}}$. \n",
    "\n",
    "7\\."
   ]
  },
  {
   "cell_type": "code",
   "execution_count": 144,
   "metadata": {},
   "outputs": [
    {
     "name": "stdout",
     "output_type": "stream",
     "text": [
      "0.96\n",
      "0.954\n",
      "0.96\n"
     ]
    }
   ],
   "source": [
    "from math import sqrt\n",
    "\n",
    "esp = 2\n",
    "sigma = 1\n",
    "\n",
    "def simulation(N, nb):\n",
    "    ecarts = [abs(moyenneEchantillon(nb)-esp) for i in range(N)]\n",
    "    c = 0\n",
    "    for e in ecarts:\n",
    "        if e<=2*sigma/sqrt(nb):\n",
    "            c += 1\n",
    "    return c/N\n",
    "\n",
    "print(simulation(1000, 10))\n",
    "print(simulation(1000, 50))\n",
    "print(simulation(1000, 500))"
   ]
  },
  {
   "cell_type": "markdown",
   "metadata": {},
   "source": [
    "7\\. Reprendre la question précédente avec des échantillons de différentes tailles. Qu'observe-t-on ?\n",
    "\n",
    "8\\. En remarquant que $|m-\\mu|\\leq \\frac{2 \\sigma}{\\sqrt{n}} \\Leftrightarrow m \\in [\\mu - \\frac{2 \\sigma}{\\sqrt{n}} ; \\mu + \\frac{2 \\sigma}{\\sqrt{n}}]$, interpréter les observations précédentes en terme de fluctuation d'échantillonnage."
   ]
  },
  {
   "cell_type": "markdown",
   "metadata": {},
   "source": [
    "7\\. On teste avec des échantillons de tailles différentes (penser à prendre $n$ grand comme 500, puis $n$ petit, comme 10 ou même 5). Le résultat de la simulation ne change pas beaucoup. Il reste autour de 0,95 ou 0,96.\n",
    "\n",
    "8\\. Pour 95% ou 96% des échantillons, le nombre moyen d'enfants par famille dans l'échantillon est dans l'intervalle $[\\mu - \\frac{2 \\sigma}{\\sqrt{n}} ; \\mu + \\frac{2 \\sigma}{\\sqrt{n}} ]$."
   ]
  },
  {
   "cell_type": "markdown",
   "metadata": {},
   "source": [
    "# Quelques liens\n",
    "\n",
    "[Histoire des probabilités](https://fr.wikipedia.org/wiki/Histoire_des_probabilités)\n",
    "\n",
    "[Formule de König-Huygens](https://fr.wikipedia.org/wiki/Théorème_de_König-Huygens) : La formule de König-Huygens fournit une autre méthode pour calculer la variance."
   ]
  }
 ],
 "metadata": {
  "kernelspec": {
   "display_name": "Python 3",
   "language": "python",
   "name": "python3"
  },
  "language_info": {
   "codemirror_mode": {
    "name": "ipython",
    "version": 3
   },
   "file_extension": ".py",
   "mimetype": "text/x-python",
   "name": "python",
   "nbconvert_exporter": "python",
   "pygments_lexer": "ipython3",
   "version": "3.6.2"
  }
 },
 "nbformat": 4,
 "nbformat_minor": 2
}
