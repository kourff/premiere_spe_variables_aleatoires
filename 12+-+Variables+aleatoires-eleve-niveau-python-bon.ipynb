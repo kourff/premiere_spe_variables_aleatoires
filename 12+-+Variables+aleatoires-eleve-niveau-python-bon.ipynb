{
 "cells": [
  {
   "cell_type": "markdown",
   "metadata": {},
   "source": [
    "# 1. Moyenne et écart type d'une liste de nombres\n",
    "On va écrire dans un premier temps les fonctions $moyenne$ et $ecarttype$ que nous utiliserons ensuite.\n",
    "\n",
    "- La moyenne d'une série statistique $(x_i)_{1 \\leqslant i \\leqslant n}$ s'obtient par la formule $\\bar{x} = \\frac{1}{n} \\sum_{i=1}^{n} x_i$ .\n",
    "- Sa variance est $V(x) = \\frac{1}{n} \\sum_{i=1}^{n} {(x_i - \\bar{x})^2}$ (moyenne des carrés des écarts des valeurs à la moyenne).\n",
    "- Son écart type est alors $\\sigma(x) = \\sqrt{V(x)}$ .\n",
    "\n",
    "__Q1.__ Rappeler les formules de calculs de moyenne et de variance dans le cas d'une série donnée avec effectifs $(x_i ; n_i)$ puis avec fréquences $(x_i ; f_i)$."
   ]
  },
  {
   "cell_type": "markdown",
   "metadata": {
    "ExecuteTime": {
     "end_time": "2019-05-24T17:04:06.853091Z",
     "start_time": "2019-05-24T17:04:06.85017Z"
    }
   },
   "source": [
    "__Q2.__ Écrire une fonction $moyenne(L)$ renvoyant la moyenne d'une liste de nombres $L$."
   ]
  },
  {
   "cell_type": "code",
   "execution_count": 5,
   "metadata": {
    "ExecuteTime": {
     "end_time": "2019-05-24T17:04:19.185322Z",
     "start_time": "2019-05-24T17:04:19.181656Z"
    }
   },
   "outputs": [],
   "source": [
    "def moyenne(L):\n",
    "    # à compléter\n",
    "    return   "
   ]
  },
  {
   "cell_type": "markdown",
   "metadata": {
    "ExecuteTime": {
     "end_time": "2019-05-24T17:04:06.853091Z",
     "start_time": "2019-05-24T17:04:06.85017Z"
    }
   },
   "source": [
    "La fonction $ecarttype(L)$ renvoie l'écart type d'une liste de nombres $L$."
   ]
  },
  {
   "cell_type": "code",
   "execution_count": 3,
   "metadata": {
    "ExecuteTime": {
     "end_time": "2019-05-24T17:04:19.185322Z",
     "start_time": "2019-05-24T17:04:19.181656Z"
    }
   },
   "outputs": [],
   "source": [
    "from math import sqrt\n",
    "\n",
    "def ecarttype(L):\n",
    "    v = 0\n",
    "    moy = moyenne(L)\n",
    "    for x in L:\n",
    "        v += (x-moy)**2\n",
    "    return sqrt(v/len(L))"
   ]
  },
  {
   "cell_type": "markdown",
   "metadata": {},
   "source": [
    "__Q3.__ Tester dans la cellule ci-dessous les deux fonctions précédentes avec la série 15, 12, 10, 16."
   ]
  },
  {
   "cell_type": "code",
   "execution_count": null,
   "metadata": {},
   "outputs": [],
   "source": []
  },
  {
   "cell_type": "markdown",
   "metadata": {},
   "source": [
    "# 2. Simulations d'expériences aléatoires\n",
    "Plusieurs fonctions de la bibliothèque `random` permettent de simuler l'aléatoire en Python. Si $n$ et $p$ sont des entiers :\n",
    "\n",
    "- $randrange(n)$ renvoie un entier entre 0 et $n-1$.\n",
    "- $randrange(n,p)$ renvoie un entier entre $n$ inclus et $p$ exclu.\n",
    "- $randint(n,p)$ renvoie un entier entre $n$ et $p$ inclus.\n",
    "- $random()$ renvoie un flottant de l'intervalle $[0;1[$"
   ]
  },
  {
   "cell_type": "markdown",
   "metadata": {},
   "source": [
    "## 2.1. Lancers de dés\n",
    "$randint(1,6)$ permet de simuler le lancer d'un dé ordinaire à 6 faces.\n",
    "\n",
    "__Q4.__ Quel est le rôle de la fonction suivante ?"
   ]
  },
  {
   "cell_type": "code",
   "execution_count": 7,
   "metadata": {},
   "outputs": [],
   "source": [
    "from random import randint\n",
    "\n",
    "def lancerdes(n):\n",
    "    res = []\n",
    "    for i in range(n):\n",
    "        res.append(randint(1,6))\n",
    "    return res"
   ]
  },
  {
   "cell_type": "markdown",
   "metadata": {
    "ExecuteTime": {
     "end_time": "2019-05-24T17:04:06.853091Z",
     "start_time": "2019-05-24T17:04:06.85017Z"
    }
   },
   "source": [
    "__Q5.__ Dans la cellule ci-dessous, on simule une série de 10 000 lancers de dés. Déterminer sa moyenne et son écart type."
   ]
  },
  {
   "cell_type": "code",
   "execution_count": 9,
   "metadata": {
    "ExecuteTime": {
     "end_time": "2019-05-24T17:04:19.185322Z",
     "start_time": "2019-05-24T17:04:19.181656Z"
    }
   },
   "outputs": [],
   "source": [
    "serie = lancerdes(10000)\n",
    "moy = 0 # ligne à modifier\n",
    "et = 0 # ligne à modifier\n",
    "print(\"moyenne :\", moy, \"ecart-type: \",et)"
   ]
  },
  {
   "cell_type": "markdown",
   "metadata": {},
   "source": [
    "__Q6.__ Décrire le fonctionnement du code suivant."
   ]
  },
  {
   "cell_type": "code",
   "execution_count": 7,
   "metadata": {},
   "outputs": [],
   "source": [
    "def frequence(serie):\n",
    "    freq = [0]*6\n",
    "    for x in serie:\n",
    "        freq[x-1] += 1    # même effet que freq[x-1] = freq[x-1] + 1\n",
    "    for i in range(len(freq)):\n",
    "        freq[i] = freq[i]/len(serie)\n",
    "    return freq"
   ]
  },
  {
   "cell_type": "markdown",
   "metadata": {
    "ExecuteTime": {
     "end_time": "2019-05-24T17:04:06.853091Z",
     "start_time": "2019-05-24T17:04:06.85017Z"
    }
   },
   "source": [
    "On peut alors représenter cette série sous la forme d'un diagramme en barres."
   ]
  },
  {
   "cell_type": "code",
   "execution_count": 9,
   "metadata": {
    "ExecuteTime": {
     "end_time": "2019-05-24T17:04:19.535243Z",
     "start_time": "2019-05-24T17:04:19.532431Z"
    },
    "scrolled": true
   },
   "outputs": [
    {
     "data": {
      "image/png": "[encoded data removed]",
      "text/plain": [
       "<matplotlib.figure.Figure at 0x2554e5292b0>"
      ]
     },
     "metadata": {},
     "output_type": "display_data"
    }
   ],
   "source": [
    "import matplotlib.pyplot as plt\n",
    "\n",
    "def diagramme(freq):\n",
    "    u = plt.bar(range(1,7),freq)\n",
    "    plt.show()\n",
    "\n",
    "diagramme(frequence(serie))"
   ]
  },
  {
   "cell_type": "markdown",
   "metadata": {},
   "source": [
    "## 2.2. Lancers d'une pièce de monnaie\n",
    "$random()<0.5$ permet de simuler le lancer d'une pièce de monnaie.\n",
    "\n",
    "__Q7.__ Que renvoie l'expression $random()<0.5$ ? Expliquer comment l'utiliser pour simuler le lancer d'une pièce."
   ]
  },
  {
   "cell_type": "markdown",
   "metadata": {},
   "source": [
    "__Q8.__ Écrire une fonction effectuant une simulation de $n$ lancers de pièces de monnaie et renvoyant la fréquence d'apparition de pile (ou face). On pourra la tester avec $n$ = 10 000 par exemple."
   ]
  },
  {
   "cell_type": "code",
   "execution_count": 1,
   "metadata": {},
   "outputs": [],
   "source": [
    "def simulationLancers(n):\n",
    "    return\n"
   ]
  },
  {
   "cell_type": "markdown",
   "metadata": {},
   "source": [
    "## 2.3. Évènement de probabilité $p$\n",
    "$random()<p$ permet de simuler un évènement de probabilité $p$.\n",
    "\n",
    "### Tir à l'arc V1\n",
    "Loic tire 10 flèches sur une cible. A chaque tir, il a une probabilité de 0,7 de toucher la cible.\n",
    "\n",
    "__Q9.__ Écrire une fonction permettant de simuler cette expérience, renvoyant le nombre de fois où Loic a touché la cible lors de ses 10 tirs."
   ]
  },
  {
   "cell_type": "code",
   "execution_count": 2,
   "metadata": {},
   "outputs": [],
   "source": [
    "from random import random\n",
    "\n",
    "def simulation10TirV1():\n",
    "    return"
   ]
  },
  {
   "cell_type": "markdown",
   "metadata": {},
   "source": [
    "### Tir à l'arc V2\n",
    "Lors du premier tir, Loic a une probabilité de 0,7 de toucher la cible. Ensuite, si Loic touche la cible, il a une probabilité de 0,8 de retoucher la cible au tir suivant, et s'il manque, il a une probabilité de 0,5 de toucher la cible au tir suivant.\n",
    "\n",
    "__Q10.__ Corriger la fonction permettant de simuler cette expérience, renvoyant le nombre de fois où Loic a touché la cible en 10 tirs."
   ]
  },
  {
   "cell_type": "code",
   "execution_count": 5,
   "metadata": {},
   "outputs": [],
   "source": [
    "def simulation10TirV2():\n",
    "    # Premier tir\n",
    "    if random() < 0.7:\n",
    "        nbr_touche = 0\n",
    "        touche = True\n",
    "    else:\n",
    "        nbr_touche = 0\n",
    "        touche = False\n",
    "    # 9 tirs suivants\n",
    "    for i in range(9):\n",
    "        if touche:\n",
    "            proba = 0         \n",
    "        else:\n",
    "            proba = 0         \n",
    "        if random() < proba:\n",
    "            nbr_touche += 0   \n",
    "            touche = True\n",
    "        else:\n",
    "            touche = True\n",
    "    return nbr_touche"
   ]
  },
  {
   "cell_type": "markdown",
   "metadata": {},
   "source": [
    "__Q11.__ Simuler $n$ séries de 10 tirs, en retenant dans chaque série le nombre de fois où Loic touche la cible. En prenant $n$ = 1 000, afficher la moyenne et l'écart type de cette série dans les deux situations précédentes (V1 et V2)."
   ]
  },
  {
   "cell_type": "code",
   "execution_count": 8,
   "metadata": {},
   "outputs": [],
   "source": [
    "def simulationTirsV1(n):\n",
    "    res_series = []\n",
    "    for i in range(n):\n",
    "        nbr_touche = simulation10TirV1()\n",
    "        res_series.append(nbr_touche)\n",
    "    return moyenne(res_series), ecarttype(res_series)\n",
    "    \n",
    "def simulationTirsV2(n):\n",
    "    # Fonction à écrire\n",
    "    return\n",
    "\n",
    "# Tester print(simulationTirsV1(1000))\n",
    "# Tester print(simulationTirsV2(1000))"
   ]
  },
  {
   "cell_type": "markdown",
   "metadata": {},
   "source": [
    "## 2.4. Déplacement aléatoire d'un robot\n",
    "Un robot se déplace dans une direction aléatoire définie par un angle entre 0° et 360° d'une distance aléatoire entre 20 et 100 centimètres.\n",
    "\n",
    "Le script suivant permet de simuler un tel déplacement."
   ]
  },
  {
   "cell_type": "code",
   "execution_count": 15,
   "metadata": {},
   "outputs": [],
   "source": [
    "from random import random\n",
    "\n",
    "def deplacement():\n",
    "    angle = random()*360\n",
    "    distance = random()*80 + 20\n",
    "    return angle,distance"
   ]
  },
  {
   "cell_type": "markdown",
   "metadata": {},
   "source": [
    "On souhaite effectuer une simulation de $n$ déplacements consécutifs. Le robot démarre au point de coordonnées (0; 0). \n",
    "\n",
    "__Q12.__ Compléter le script suivant, qui affiche la trajectoire du robot, afin qu'il renvoie les coordonnées du robot après les déplacements."
   ]
  },
  {
   "cell_type": "code",
   "execution_count": 1,
   "metadata": {},
   "outputs": [],
   "source": [
    "# Création des fonctions cosinus et sinus en degrés\n",
    "import numpy as np\n",
    "def cos(x):\n",
    "    return np.cos(np.pi*x/180)\n",
    "\n",
    "def sin(x):\n",
    "    return np.sin(np.pi*x/180)\n",
    "\n",
    "# Fonctions permettant d'afficher les déplacements du robot\n",
    "import turtle\n",
    "\n",
    "def simulationDeplacements(n):\n",
    "    x,y = 0,0\n",
    "    for i in range(n):\n",
    "        angle,distance = deplacement()\n",
    "        turtle.setheading(angle)\n",
    "        turtle.forward(distance)\n",
    "        # ligne à écrire pour mettre à jour la valeur de x après le déplacement\n",
    "        # ligne à écrire pour mettre à jour la valeur de y après le déplacement\n",
    "    turtle.exitonclick()\n",
    "    return x,y\n",
    "\n",
    "# Les lignes suivantes exécutent la fonction simulationDeplacements. \n",
    "# Les instructions try et except ne présentent pas d'intérêt pour nous mais permettent d'éviter un bug du module turtle.\n",
    "\n",
    "try:\n",
    "    print(simulationDeplacements(10))\n",
    "except:\n",
    "    print(simulationDeplacements(10))\n"
   ]
  },
  {
   "cell_type": "markdown",
   "metadata": {},
   "source": [
    "# 3. Variables aléatoires réelles\n",
    "\n",
    "__Définition__\n",
    "\n",
    "On considère une expérience dont l'univers est un ensemble fini $\\Omega$.\n",
    "Une variable aléatoire $X$ est une fonction définie sur $\\Omega$ et à valeurs dans $\\mathbb{R}$.\n",
    "\n",
    "__Exemples__\n",
    "- La variable $X$ qui, à tout lancer d'un dé à six faces, associe le nombre obtenu sur la face supérieure est une variable aléatoire à valeurs dans {1; 2; 3; 4; 5; 6}.\n",
    "- La variable $Y$ qui, à toute série de 10 tirs de Loic, associe le nombre de fois où il touche la pile est une variable aléatoire à valeurs dans {0; 1; 2; 3; 4; 5; 6; 7; 8; 9; 10}.\n",
    "- La variable qui, à tout déplacement du robot, associe la distance parcourue en centimètres est une variable aléatoire à valeurs dans [20 ; 100]. Cet exemple dépasse le cadre du programme de première car l'ensemble des déplacements est infini.\n",
    "\n",
    "__Définition__\n",
    "\n",
    "La loi de probabilité d'une variable aléatoire $X$ est la donnée de la probabilité $P(X=x_i)$ de l'évènement {$X=x_i$} pour chaque valeur $x_i$ prise par $X$.\n",
    "\n",
    "__Exemples__\n",
    "- La loi de probabilité de la variable $X$ est donnée par : $\\forall n \\in$ {1; 2; 3; 4; 5; 6}, $P(X=n) = \\frac{1}{6}$\n",
    "- La loi de probabilité de la variable $Y$ est plus complexe à déterminer mais peut être estimée statistiquement. On rappelle que la fréquence de réalisation d'un évènement lors de $n$ expériences se rapproche de la probabilité de réalisation de cet évènement quand $n$ est très grand.\n",
    "\n",
    "__Q13.__ Ecrire la fonction $simulationFreq(n)$ renvoyant la fréquence d'apparition de chaque résultat, les résultats étant $\\{Y=0\\}$, $\\{Y=1\\}$, ..., $\\{Y=10\\}$.\n",
    "On utilisera, sans chercher à comprendre son fonctionnement, la fonction afficheResultat qui permet d'afficher les fréquences sous forme de tableau."
   ]
  },
  {
   "cell_type": "code",
   "execution_count": 2,
   "metadata": {},
   "outputs": [],
   "source": [
    "from IPython.display import HTML, display\n",
    "\n",
    "def simulationFreq(n):\n",
    "    \"\"\"appelle n fois simulation10TirV2 et renvoie une liste freq contenant la fréquence \n",
    "    d'obtiention de chaque résultat\"\"\"\n",
    "    freq = [0] # ligne à compléter pour construire une liste de onze 0\n",
    "    for i in range(n):\n",
    "        nbr_touche = simulation10TirV2()\n",
    "        # Écrire ici la ligne permettant d'incrémenter dans la liste freq le nombre d'index nbr_touche.\n",
    "    for i in range(11):\n",
    "        freq[i] = freq[i] # ligne à compléter\n",
    "    return freq\n",
    "\n",
    "def afficheResultat(freq):\n",
    "    data = [[\"n\",0,1,2,3,4,5,6,7,8,9,10],\n",
    "        [\"P(Y=n)\"]+freq] \n",
    "    display(HTML(\n",
    "       '<table><tr>{}</tr></table>'.format(\n",
    "           '</tr><tr>'.join(\n",
    "               '<td>{}</td>'.format('</td><td>'.join(str(_) for _ in row)) for row in data)\n",
    "           )\n",
    "    ))\n",
    "\n",
    "# Tester freq = simulationFreq(10000) une fois la fonction simululationFreq complétée\n",
    "# Tester afficheResultat(freq) une fois la fonction simululationFreq complétée"
   ]
  },
  {
   "cell_type": "markdown",
   "metadata": {
    "slideshow": {
     "slide_type": "subslide"
    }
   },
   "source": [
    "__Définition__\n",
    "\n",
    "On étend les notions de moyenne, de variance et d'écart type des séries statistiques aux variables aléatoires.\n",
    "\n",
    "$X$ étant une variable aléatoire prenant les valeurs $x_i$ avec des probabilités $p_i$, on définit :\n",
    "\n",
    "- L'espérance de $X$ : $E(X) = \\sum_{i=1}^{n} p_i x_i$ \n",
    "- La variance de $X$ : $V(X) = \\sum_{i=1}^{n} {p_i (x_i - \\bar{x})^2}$ (moyenne des carrés des écarts des valeurs à la moyenne)\n",
    "- L'écart type de $X$ : $\\sigma(X) = \\sqrt{V(X)}$ \n",
    "\n",
    "__Exemples__\n",
    "\n",
    "$E(X) = \\sum_{i=1}^{6} p_i x_i = \\frac{1}{6} \\times 1 + \\frac{1}{6} \\times 2 + \\frac{1}{6} \\times 3 + \\frac{1}{6} \\times 4 + \\frac{1}{6} \\times 5 + \\frac{1}{6} \\times 6 = \\frac{21}{6} = 3,5$ \n",
    "\n",
    "$V(X) = \\sum_{i=1}^{6} {p_i (x_i - \\bar{x})^2} = \\frac{1}{6} \\times (1 - 3,5)^2 + \\frac{1}{6} \\times (2 - 3,5)^2 + \\frac{1}{6} \\times (3 - 3,5)^2 + \\frac{1}{6} \\times (4 - 3,5)^2 + \\frac{1}{6} \\times (5 - 3,5)^2 + \\frac{1}{6} \\times (6 - 3,5)^2 = \\frac{35}{12}$ \n",
    "\n",
    "$\\sigma(X) = \\sqrt{V(X)} = \\sqrt{\\frac{35}{12}} \\approx 1,7$ "
   ]
  },
  {
   "cell_type": "markdown",
   "metadata": {},
   "source": [
    "# Exercices\n",
    "## Exercice 1\n",
    "\n",
    "La fonction $frequenceLettres$ ci-dessous calcule pour l'instant le nombre d'apparitions de chaque lettre dans un texte. Compléter cette fonction pour qu'elle renvoie dans la liste $freq$ la fréquence d'apparition de chaque lettre.\n",
    "\n",
    "Les plus motivés pourront rajouter quelques lignes pour gérer les lettres accentuées (cette partie est plus proche de la NSI que des mathématiques)."
   ]
  },
  {
   "cell_type": "code",
   "execution_count": 3,
   "metadata": {},
   "outputs": [],
   "source": [
    "def frequenceLettres(texte):\n",
    "    texmin = texte.casefold()  # convertit le texte en lettres minuscules\n",
    "    freq = [0]*26\n",
    "    for lettre in texmin:\n",
    "        num = ord(lettre) - 97  # renvoie un nombre associé à chaque caractère entre 0 et 25\n",
    "        if 0 <= num <= 25:\n",
    "            freq[num] += 1\n",
    "    # compléter ici la fonction par une ou plusieurs lignes\n",
    "    return freq"
   ]
  },
  {
   "cell_type": "markdown",
   "metadata": {},
   "source": [
    "Tester la fonction précédente sur le petit chaperon rouge en français."
   ]
  },
  {
   "cell_type": "code",
   "execution_count": 4,
   "metadata": {},
   "outputs": [],
   "source": [
    "text = \"\"\"\n",
    "Il était une fois une petite fille de village, la plus éveillée qu’on eût su voir : sa mère en était folle, et sa mère-grand plus folle encore. Cette bonne femme lui fit faire un petit chaperon rouge qui lui seyait si bien, que partout on l’appelait le petit Chaperon rouge. \n",
    "Un jour, sa mère ayant cuit et fait des galettes, lui dit : « Va voir comment se porte ta mère-grand, car on m’a dit qu’elle était malade. Porte-lui une galette et ce petit pot de beurre. » \n",
    "Le petit Chaperon rouge partit aussitôt pour aller chez sa mère-grand, qui demeurait dans un autre village. En passant dans un bois, elle rencontra compère le Loup, qui eut bien envie de la manger ; mais il n’osa, à cause de quelques bûcherons qui étaient dans la forêt. Il lui demanda où elle allait. La pauvre enfant, qui ne savait pas qu’il était dangereux de s’arrêter à écouter un loup, lui dit : Je vais voir ma mère-grand, et lui porter une galette, avec un petit pot de beurre, que ma mère lui envoie. — Demeure-t-elle bien loin ? lui dit le loup. — Oh ! oui, dit le petit Chaperon rouge ; c’est par delà le moulin que vous voyez tout là-bas, à la première maison du village. — Eh bien ! dit le Loup, je veux l’aller voir aussi : je m’y en vais par ce chemin-ci, et toi par ce chemin-là ; et nous verrons à qui plus tôt y sera. \n",
    "Le Loup se mit à courir de toute sa force par le chemin qui était le plus court, et la petite fille s’en alla par le chemin le plus long, s’amusant à cueillir des noisettes, à courir après des papillons, et à faire des bouquets des petites fleurs qu’elle rencontrait. \n",
    "Le Loup ne fut pas longtemps à arriver à la maison de la mère-grand ; il heurte : toc, toc. — Qui est là ? — C’est votre fille, le petit Chaperon rouge, dit le Loup en contrefaisant sa voix, qui vous apporte une galette et un petit pot de beurre, que ma mère vous envoie. — La bonne mère-grand, qui était dans son lit, à cause qu’elle se trouvait un peu mal, lui cria : Tire la chevillette, la bobinette cherra. — Le Loup tira la chevillette, et la porte s’ouvrit. Il se jeta sur la bonne femme, et la dévora en moins de rien, car il y avait plus de trois jours qu’il n’avait mangé. \n",
    "Ensuite il ferma la porte, et s’alla coucher dans le lit de la mère-grand, en attendant le petit Chaperon rouge, qui, quelque temps après, vint heurter à la porte : toc, toc. — Qui est là ? — Le petit Chaperon rouge, qui entendit la grosse voix du Loup, eut peur d’abord, mais, croyant que sa mère-grand était enrhumée, répondit : C’est votre fille, le petit Chaperon rouge, qui vous apporte une galette et un petit pot de beurre, que ma mère vous envoie. — Le Loup lui cria en adoucissant un peu sa voix : Tire la chevillette, la bobinette cherra. — Le petit Chaperon rouge tira la chevillette, et la porte s’ouvrit. \n",
    "Le Loup, la voyant entrer, lui dit en se cachant dans le lit, sous la couverture : Mets la galette et le petit pot de beurre sur la huche, et viens te coucher avec moi. Le petit Chaperon rouge se déshabille, et va se mettre dans le lit, où elle fut bien étonnée de voir comment sa mère-grand était faite en son déshabillé. — Elle lui dit : Ma mère-grand, que vous avez de grands bras ! — C’est pour mieux t’embrasser, ma fille ! — Ma mère-grand, que vous avez de grandes jambes ! — C’est pour mieux courir, mon enfant ! — Ma mère-grand, que vous avez de grandes oreilles ! — C’est pour mieux écouter, mon enfant ! — Ma mère-grand, que vous avez de grands yeux ! — C’est pour mieux te voir, mon enfant ! — Ma mère-grand, que vous avez de grandes dents ! — C’est pour te manger ! Et, en disant ces mots, ce méchant Loup se jeta sur le petit Chaperon rouge, et la mangea. \n",
    "\"\"\"\n",
    "t2=text.casefold()  # convertit les majuscules en minuscules\n",
    "# Écrire la ligne manquante appliquant la fonction frequenceLettres au texte t2 et renvoyant le résultat dans une liste lstfreq  \n",
    "for i in range(len(lstfreq)):\n",
    "    print(\"Fréquence de\",chr(i+97),\" : \",lstfreq[i])"
   ]
  },
  {
   "cell_type": "markdown",
   "metadata": {},
   "source": [
    "Tester sur une traduction anglaise."
   ]
  },
  {
   "cell_type": "code",
   "execution_count": 5,
   "metadata": {},
   "outputs": [],
   "source": [
    "text = \"\"\"\n",
    "Once upon a time there lived in a certain village a little country girl, the prettiest creature who was ever seen. Her mother was excessively fond of her; and her grandmother doted on her still more. This good woman had a little red riding hood made for her. It suited the girl so extremely well that everybody called her Little Red Riding Hood. \n",
    "One day her mother, having made some cakes, said to her, \"Go, my dear, and see how your grandmother is doing, for I hear she has been very ill. Take her a cake, and this little pot of butter.\" \n",
    "Little Red Riding Hood set out immediately to go to her grandmother, who lived in another village. \n",
    "As she was going through the wood, she met with a wolf, who had a very great mind to eat her up, but he dared not, because of some woodcutters working nearby in the forest. He asked her where she was going. The poor child, who did not know that it was dangerous to stay and talk to a wolf, said to him, \"I am going to see my grandmother and carry her a cake and a little pot of butter from my mother.\" \n",
    "\"Does she live far off?\" said the wolf \n",
    "\"Oh I say,\" answered Little Red Riding Hood; \"it is beyond that mill you see there, at the first house in the village.\" \n",
    "\"Well,\" said the wolf, \"and I'll go and see her too. I'll go this way and go you that, and we shall see who will be there first.\" \n",
    "The wolf ran as fast as he could, taking the shortest path, and the little girl took a roundabout way, entertaining herself by gathering nuts, running after butterflies, and gathering bouquets of little flowers. It was not long before the wolf arrived at the old woman's house. He knocked at the door: tap, tap. \n",
    "\"Who's there?\" \n",
    "\"Your grandchild, Little Red Riding Hood,\" replied the wolf, counterfeiting her voice; \"who has brought you a cake and a little pot of butter sent you by mother.\" \n",
    "The good grandmother, who was in bed, because she was somewhat ill, cried out, \"Pull the bobbin, and the latch will go up.\" \n",
    "The wolf pulled the bobbin, and the door opened, and then he immediately fell upon the good woman and ate her up in a moment, for it been more than three days since he had eaten. He then shut the door and got into the grandmother's bed, expecting Little Red Riding Hood, who came some time afterwards and knocked at the door: tap, tap. \n",
    "\"Who's there?\" \n",
    "Little Red Riding Hood, hearing the big voice of the wolf, was at first afraid; but believing her grandmother had a cold and was hoarse, answered, \"It is your grandchild Little Red Riding Hood, who has brought you a cake and a little pot of butter mother sends you.\" \n",
    "The wolf cried out to her, softening his voice as much as he could, \"Pull the bobbin, and the latch will go up.\" \n",
    "Little Red Riding Hood pulled the bobbin, and the door opened. \n",
    "The wolf, seeing her come in, said to her, hiding himself under the bedclothes, \"Put the cake and the little pot of butter upon the stool, and come get into bed with me.\" \n",
    "Little Red Riding Hood took off her clothes and got into bed. She was greatly amazed to see how her grandmother looked in her nightclothes, and said to her, \"Grandmother, what big arms you have!\" \n",
    "\"All the better to hug you with, my dear.\" \"Grandmother, what big legs you have!\" \"All the better to run with, my child.\" \n",
    "\"Grandmother, what big ears you have!\" \"All the better to hear with, my child.\" \"Grandmother, what big eyes you have!\" \n",
    "\"All the better to see with, my child.\" \"Grandmother, what big teeth you have got!\" \n",
    "\"All the better to eat you up with.\" \n",
    "And, saying these words, this wicked wolf fell upon Little Red Riding Hood, and ate her all up. \"\"\"\n",
    "t2=text.casefold()\n",
    "# Écrire la ligne manquante appliquant la fonction frequenceLettres au texte t2 et renvoyant le résultat dans une liste lstfreq   \n",
    "for i in range(len(lstfreq)):\n",
    "    print(\"Fréquence de\",chr(i+97),\" : \",lstfreq[i])"
   ]
  },
  {
   "cell_type": "markdown",
   "metadata": {},
   "source": [
    "Expliquer comment un programme peut déterminer si un texte est en français ou en anglais."
   ]
  },
  {
   "cell_type": "markdown",
   "metadata": {},
   "source": [
    "## Exercice 2\n",
    "On considère la variable aléatoire $X$, qui à tout lancer de deux dés, associe $|a-b|$ où $a$ et $b$ sont les nombres obtenus sur chaque dé.  \n",
    "On rappelle que $|a-b|$, que l'on lit valeur absolue de $a-b$ est la distance entre les nombres $a$ et $b$.  \n",
    "1\\. Déterminer la loi de probabilité de la variable $X$.  \n",
    "2\\. Calculer son espérance et son écart type $\\sigma$ au centième.  \n",
    "3\\. Écrire la fonction $unLancer$ qui simule un lancer de deux dés et renvoie la valeur prise par $X$."
   ]
  },
  {
   "cell_type": "code",
   "execution_count": 6,
   "metadata": {},
   "outputs": [],
   "source": [
    "from random import randint\n",
    "\n",
    "def unLancer():\n",
    "    return"
   ]
  },
  {
   "cell_type": "markdown",
   "metadata": {},
   "source": [
    "4\\. Écrire la fonction $moyenneEchantillon$ qui simule $n$ lancers de deux dés et renvoie la valeur moyenne de $X$ obtenue sur ces $n$ lancers. Le résultat obtenu avec 100 000 lancers est-il proche du résultat théorique ?"
   ]
  },
  {
   "cell_type": "code",
   "execution_count": 7,
   "metadata": {},
   "outputs": [],
   "source": [
    "def moyenneEchantillon(n):\n",
    "    return \n",
    "\n",
    "moyenneEchantillon(100000)"
   ]
  },
  {
   "cell_type": "markdown",
   "metadata": {},
   "source": [
    "5\\. Écrire une fonction permettant d'estimer $P(X<3)$, la probabilité de l'évènement {$X<3$}. Vérifier que cette estimation correspond au résultat attendu."
   ]
  },
  {
   "cell_type": "code",
   "execution_count": 9,
   "metadata": {},
   "outputs": [],
   "source": [
    "def estime(n):\n",
    "    \"\"\" appelle n fois unLancer() et renvoie la proportion de résultats inférieurs à 3\"\"\"\n",
    "    return "
   ]
  },
  {
   "cell_type": "markdown",
   "metadata": {},
   "source": [
    "La fonction suivante simule $N$ échantillons de taille $n$ et renvoie les distances entre la moyenne de chaque échantillon et l'espérance de $X$."
   ]
  },
  {
   "cell_type": "code",
   "execution_count": 50,
   "metadata": {},
   "outputs": [],
   "source": [
    "def distanceMoyenneEsperance(N, n, esp):\n",
    "    distance = []\n",
    "    for i in range(N):\n",
    "        dist = (moyenneEchantillon(n) - esp)\n",
    "        distance.append(dist)\n",
    "    return distance"
   ]
  },
  {
   "cell_type": "markdown",
   "metadata": {},
   "source": [
    "Le code suivant permet de représenter cet écart."
   ]
  },
  {
   "cell_type": "code",
   "execution_count": null,
   "metadata": {},
   "outputs": [],
   "source": [
    "import matplotlib.pyplot as plt\n",
    "esp = 2 # remplacer 2 par la valeur de l'espérance trouvée dans la question 2.\n",
    "dist = distanceMoyenneEsperance(1000,1000,esp)  \n",
    "plt.plot(dist)\n",
    "plt.show()"
   ]
  },
  {
   "cell_type": "markdown",
   "metadata": {},
   "source": [
    "6\\. Compléter le code ci-dessous pour calculer la proportion des cas où l’écart entre la moyenne d'un échantillon et l'espérance de $X$ est inférieur ou égal à $\\frac{2 \\sigma}{\\sqrt{n}}$ dans la liste $dist$.  \n",
    "7\\. Cette proportion varie-t-elle beaucoup lors de plusieurs simulations ?"
   ]
  },
  {
   "cell_type": "code",
   "execution_count": null,
   "metadata": {},
   "outputs": [],
   "source": [
    "from math import sqrt\n",
    "\n",
    "dist = distanceMoyenneEsperance(1000,1000,esp)\n",
    "sigma = 1 # remplacer 1 par la valeur trouvée dans la question 2\n",
    "n = 1000\n",
    "esp = 2   # remplacer 2 par la valeur trouvée dans la question 2\n",
    "c = 0     # variable comptant le nombre de cas vérifiant la condition\n",
    "for d in dist:\n",
    "    # ligne à compléter\n",
    "    # ligne à compléter\n",
    "print(c/len(dist))"
   ]
  },
  {
   "cell_type": "markdown",
   "metadata": {},
   "source": [
    "## Exercice 3\n",
    "On s'intéresse au nombre de filles et de garçons dans des familles de $n$ enfants.  \n",
    "On admet que la probabilité qu'un enfant soit un garçon est égale à 0,5.\n",
    "\n",
    "1\\. Compléter la fonction $famille(n)$ simulant une famille à $n$ enfants et renvoyant le nombre de garçons. "
   ]
  },
  {
   "cell_type": "code",
   "execution_count": 10,
   "metadata": {},
   "outputs": [],
   "source": [
    "from random import random\n",
    "\n",
    "def famille(n):\n",
    "    return "
   ]
  },
  {
   "cell_type": "markdown",
   "metadata": {},
   "source": [
    "2\\. Écrire une fonction $echantillon(nb,n)$ simulant un échantillon de $nb$ familles à $n$ enfants et renvoyant une liste contenant le nombre de garçons dans chaque famille."
   ]
  },
  {
   "cell_type": "code",
   "execution_count": 1,
   "metadata": {},
   "outputs": [],
   "source": [
    "def echantillon(nb, n):\n",
    "    return\n",
    "\n",
    "echantillon(20,4)"
   ]
  },
  {
   "cell_type": "markdown",
   "metadata": {},
   "source": [
    "On prend maintenant $n$ = 4 .  \n",
    "On note $X$ la variable aléatoire qui, à toute famille de $n$ enfants, associe le nombre de garçons.\n",
    "\n",
    "3\\. Écrire une fonction permettant de calculer la moyenne d'un échantillon de taille $nb$ de valeurs prises par la variable aléatoire $X$. Le résultat obtenu avec $n=10000$ par exemple vous semble-t-il cohérent ?"
   ]
  },
  {
   "cell_type": "code",
   "execution_count": 2,
   "metadata": {},
   "outputs": [],
   "source": [
    "def moyenneEchantillon(nb):\n",
    "    lstgarcon = echantillon(nb, 4)\n",
    "    # Calculer ici la moyenne des valeurs de lstgarcon puis la renvoyer\n",
    "    \n",
    "moyenneEchantillon(100000)"
   ]
  },
  {
   "cell_type": "markdown",
   "metadata": {},
   "source": [
    "4\\. A l'aide d'un arbre, déterminer la loi de probabilité de la variable aléatoire $X$.\n",
    "\n",
    "5\\. Calculer l'espérance $\\mu$ et l'écart type $\\sigma$ de la variable aléatoire $X$.\n",
    "\n",
    "6\\. Dans le code ci-dessous :  \n",
    "- Expliquer la ligne `ecarts = [abs(moyenneEchantillon(nb)-esp) for i in range(N)]`.  \n",
    "- Que représente la variable c ?\n",
    "\n",
    "7\\. Simuler 1 000 échantillons de taille 50 de valeurs prises par la variable aléatoire $X$ et calculer les écarts entre la moyenne $m$ de chaque échantillon et l'espérance $\\mu$ de $X$. Déterminer la proportion des cas où cet écart est inférieur ou égal à $\\frac{2 \\sigma}{\\sqrt{n}}$."
   ]
  },
  {
   "cell_type": "code",
   "execution_count": 76,
   "metadata": {},
   "outputs": [
    {
     "data": {
      "text/plain": [
       "0.962"
      ]
     },
     "execution_count": 76,
     "metadata": {},
     "output_type": "execute_result"
    }
   ],
   "source": [
    "from math import sqrt\n",
    "\n",
    "esp = 0 # remplacer par la valeur de l'espérance calculée dans la question 5\n",
    "sigma = 0 # remplacer par la valeur de l'écart type calculée dans la question 5\n",
    "\n",
    "def simulation(N, nb):\n",
    "    ecarts = [abs(moyenneEchantillon(nb)-esp) for i in range(N)]\n",
    "    c = 0\n",
    "    for e in ecarts:\n",
    "        if e<=2*sigma/sqrt(nb):\n",
    "            c += 1\n",
    "    return c/N\n",
    "\n",
    "simulation(1000, 50)"
   ]
  },
  {
   "cell_type": "markdown",
   "metadata": {},
   "source": [
    "7\\. Reprendre la question précédente avec des échantillons de différentes tailles. Qu'observe-t-on ?\n",
    "\n",
    "8\\. En remarquant que $|m-\\mu|\\leq \\frac{2\\sigma}{\\sqrt{n}} \\Leftrightarrow m \\in [\\mu - \\frac{2\\sigma}{\\sqrt{n}};\\mu + \\frac{2\\sigma}{\\sqrt{n}}]$, interpréter les observations précédentes en terme de fluctuation d'échantillonnage."
   ]
  },
  {
   "cell_type": "markdown",
   "metadata": {},
   "source": [
    "# Quelques liens\n",
    "\n",
    "[Histoire des probabilités](https://fr.wikipedia.org/wiki/Histoire_des_probabilités)\n",
    "\n",
    "[Formule de König-Huygens](https://fr.wikipedia.org/wiki/Théorème_de_König-Huygens) : La formule de König-Huygens fournit une autre méthode pour calculer la variance."
   ]
  }
 ],
 "metadata": {
  "kernelspec": {
   "display_name": "Python 3",
   "language": "python",
   "name": "python3"
  },
  "language_info": {
   "codemirror_mode": {
    "name": "ipython",
    "version": 3
   },
   "file_extension": ".py",
   "mimetype": "text/x-python",
   "name": "python",
   "nbconvert_exporter": "python",
   "pygments_lexer": "ipython3",
   "version": "3.6.2"
  }
 },
 "nbformat": 4,
 "nbformat_minor": 2
}
